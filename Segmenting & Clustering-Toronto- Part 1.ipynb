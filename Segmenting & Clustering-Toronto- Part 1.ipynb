{
    "cells": [
        {
            "cell_type": "markdown",
            "metadata": {
                "collapsed": true
            },
            "source": "# Applied Data Science Capstone Assignment 2 :Segmenting and Clustering Neighborhoods in Toronto\n"
        },
        {
            "cell_type": "code",
            "execution_count": 37,
            "metadata": {},
            "outputs": [],
            "source": "# Import necessary libraries\n\nimport requests\nimport lxml.html as lh\nimport pandas as pd"
        },
        {
            "cell_type": "code",
            "execution_count": 38,
            "metadata": {},
            "outputs": [],
            "source": "url='https://en.wikipedia.org/wiki/List_of_postal_codes_of_Canada:_M'\n\n#Create a handle, page, to handle the contents of the website\npage = requests.get(url)\n\n#Store the contents of the website under doc\ndoc = lh.fromstring(page.content)\n\n#Parse data that are stored between <tr>..</tr> of HTML\ntr_elements = doc.xpath('//tr')"
        },
        {
            "cell_type": "code",
            "execution_count": 39,
            "metadata": {},
            "outputs": [
                {
                    "data": {
                        "text/plain": "[3, 3, 3, 3, 3, 3, 3, 3, 3, 3, 3, 3]"
                    },
                    "execution_count": 39,
                    "metadata": {},
                    "output_type": "execute_result"
                }
            ],
            "source": "#Check the length of the first 12 rows\n[len(T) for T in tr_elements[:12]]"
        },
        {
            "cell_type": "markdown",
            "metadata": {},
            "source": "#### This means that there are 3 columns per row"
        },
        {
            "cell_type": "code",
            "execution_count": 40,
            "metadata": {},
            "outputs": [
                {
                    "name": "stdout",
                    "output_type": "stream",
                    "text": "1:\"Postal Code\n\"\n2:\"Borough\n\"\n3:\"Neighborhood\n\"\n"
                }
            ],
            "source": "# Parse the first row as our header\ntr_elements = doc.xpath('//tr')\n\n#Create empty list\ncol=[]\ni=0\n\n#For each row, store each first element (header) and an empty list\nfor t in tr_elements[0]:\n    i+=1\n    name=t.text_content()\n    print ('%d:\"%s\"'%(i,name))\n    col.append((name,[]))"
        },
        {
            "cell_type": "markdown",
            "metadata": {},
            "source": "#### Creating Pandas DataFrame\n### Each header is appended to a tuple along with an empty list."
        },
        {
            "cell_type": "code",
            "execution_count": 41,
            "metadata": {},
            "outputs": [],
            "source": "#Since out first row is the header, data is stored on the second row onwards\nfor j in range(1,len(tr_elements)):\n    #T is our j'th row\n    T=tr_elements[j]\n    \n    #If row is not of size 3, the //tr data is not from our table \n    if len(T)!=3:\n        break\n    \n    #i is the index of our column\n    i=0\n    \n    #Iterate through each element of the row\n    for t in T.iterchildren():\n        data=t.text_content() \n        #Check if row is empty\n        if i>0:\n        #Convert any numerical value to integers\n            try:\n                data=int(data)\n            except:\n                pass\n        #Append the data to the empty list of the i'th column\n        col[i][1].append(data)\n        #Increment i for the next column\n        i+=1"
        },
        {
            "cell_type": "code",
            "execution_count": 42,
            "metadata": {},
            "outputs": [
                {
                    "data": {
                        "text/plain": "[181, 181, 181]"
                    },
                    "execution_count": 42,
                    "metadata": {},
                    "output_type": "execute_result"
                }
            ],
            "source": "# Check the length of each column. Ideally, they should all be the same\n[len(C) for (title,C) in col]"
        },
        {
            "cell_type": "markdown",
            "metadata": {},
            "source": "##### This shows that each of the 3 columns has exactly 181 rows"
        },
        {
            "cell_type": "markdown",
            "metadata": {},
            "source": "### Creating the pandas data frame"
        },
        {
            "cell_type": "code",
            "execution_count": 43,
            "metadata": {},
            "outputs": [],
            "source": "Dict={title:column for (title,column) in col}\ndf=pd.DataFrame(Dict)"
        },
        {
            "cell_type": "code",
            "execution_count": 44,
            "metadata": {},
            "outputs": [
                {
                    "data": {
                        "text/html": "<div>\n<style scoped>\n    .dataframe tbody tr th:only-of-type {\n        vertical-align: middle;\n    }\n\n    .dataframe tbody tr th {\n        vertical-align: top;\n    }\n\n    .dataframe thead th {\n        text-align: right;\n    }\n</style>\n<table border=\"1\" class=\"dataframe\">\n  <thead>\n    <tr style=\"text-align: right;\">\n      <th></th>\n      <th>Postal Code</th>\n      <th>Borough</th>\n      <th>Neighborhood</th>\n    </tr>\n  </thead>\n  <tbody>\n    <tr>\n      <th>0</th>\n      <td>M1A\\n</td>\n      <td>Not assigned\\n</td>\n      <td>Not assigned\\n</td>\n    </tr>\n    <tr>\n      <th>1</th>\n      <td>M2A\\n</td>\n      <td>Not assigned\\n</td>\n      <td>Not assigned\\n</td>\n    </tr>\n    <tr>\n      <th>2</th>\n      <td>M3A\\n</td>\n      <td>North York\\n</td>\n      <td>Parkwoods\\n</td>\n    </tr>\n    <tr>\n      <th>3</th>\n      <td>M4A\\n</td>\n      <td>North York\\n</td>\n      <td>Victoria Village\\n</td>\n    </tr>\n    <tr>\n      <th>4</th>\n      <td>M5A\\n</td>\n      <td>Downtown Toronto\\n</td>\n      <td>Regent Park, Harbourfront\\n</td>\n    </tr>\n  </tbody>\n</table>\n</div>",
                        "text/plain": "  Postal Code\\n           Borough\\n               Neighborhood\\n\n0         M1A\\n      Not assigned\\n               Not assigned\\n\n1         M2A\\n      Not assigned\\n               Not assigned\\n\n2         M3A\\n        North York\\n                  Parkwoods\\n\n3         M4A\\n        North York\\n           Victoria Village\\n\n4         M5A\\n  Downtown Toronto\\n  Regent Park, Harbourfront\\n"
                    },
                    "execution_count": 44,
                    "metadata": {},
                    "output_type": "execute_result"
                }
            ],
            "source": "# Access the top 5 rows of the data frame \ndf.head()"
        },
        {
            "cell_type": "code",
            "execution_count": 30,
            "metadata": {
                "scrolled": true
            },
            "outputs": [
                {
                    "data": {
                        "text/html": "<div>\n<style scoped>\n    .dataframe tbody tr th:only-of-type {\n        vertical-align: middle;\n    }\n\n    .dataframe tbody tr th {\n        vertical-align: top;\n    }\n\n    .dataframe thead th {\n        text-align: right;\n    }\n</style>\n<table border=\"1\" class=\"dataframe\">\n  <thead>\n    <tr style=\"text-align: right;\">\n      <th></th>\n      <th>Postcode</th>\n      <th>Borough</th>\n      <th>Neighbourhood</th>\n    </tr>\n  </thead>\n  <tbody>\n    <tr>\n      <th>0</th>\n      <td>Not assigned\\n</td>\n      <td>M1A\\n</td>\n      <td>Not assigned\\n</td>\n    </tr>\n    <tr>\n      <th>1</th>\n      <td>Not assigned\\n</td>\n      <td>M2A\\n</td>\n      <td>Not assigned\\n</td>\n    </tr>\n    <tr>\n      <th>2</th>\n      <td>Parkwoods\\n</td>\n      <td>M3A\\n</td>\n      <td>North York\\n</td>\n    </tr>\n    <tr>\n      <th>3</th>\n      <td>Victoria Village\\n</td>\n      <td>M4A\\n</td>\n      <td>North York\\n</td>\n    </tr>\n    <tr>\n      <th>4</th>\n      <td>Regent Park, Harbourfront\\n</td>\n      <td>M5A\\n</td>\n      <td>Downtown Toronto\\n</td>\n    </tr>\n  </tbody>\n</table>\n</div>",
                        "text/plain": "                      Postcode Borough       Neighbourhood\n0               Not assigned\\n   M1A\\n      Not assigned\\n\n1               Not assigned\\n   M2A\\n      Not assigned\\n\n2                  Parkwoods\\n   M3A\\n        North York\\n\n3           Victoria Village\\n   M4A\\n        North York\\n\n4  Regent Park, Harbourfront\\n   M5A\\n  Downtown Toronto\\n"
                    },
                    "execution_count": 30,
                    "metadata": {},
                    "output_type": "execute_result"
                }
            ],
            "source": "df.columns = ['Borough', 'Neighbourhood','Postcode']\n\ncols = df.columns.tolist()\ncols\n\ncols = cols[-1:] + cols[:-1]\n\ndf = df[cols]\n\ndf.head()"
        },
        {
            "cell_type": "code",
            "execution_count": 56,
            "metadata": {},
            "outputs": [
                {
                    "data": {
                        "text/html": "<div>\n<style scoped>\n    .dataframe tbody tr th:only-of-type {\n        vertical-align: middle;\n    }\n\n    .dataframe tbody tr th {\n        vertical-align: top;\n    }\n\n    .dataframe thead th {\n        text-align: right;\n    }\n</style>\n<table border=\"1\" class=\"dataframe\">\n  <thead>\n    <tr style=\"text-align: right;\">\n      <th></th>\n      <th>Postal Code</th>\n      <th>Borough</th>\n      <th>Neighborhood</th>\n    </tr>\n  </thead>\n  <tbody>\n    <tr>\n      <th>0</th>\n      <td>M1A</td>\n      <td>Not assigned</td>\n      <td>Not assigned</td>\n    </tr>\n    <tr>\n      <th>1</th>\n      <td>M2A</td>\n      <td>Not assigned</td>\n      <td>Not assigned</td>\n    </tr>\n    <tr>\n      <th>2</th>\n      <td>M3A</td>\n      <td>North York</td>\n      <td>Parkwoods</td>\n    </tr>\n    <tr>\n      <th>3</th>\n      <td>M4A</td>\n      <td>North York</td>\n      <td>Victoria Village</td>\n    </tr>\n    <tr>\n      <th>4</th>\n      <td>M5A</td>\n      <td>Downtown Toronto</td>\n      <td>Regent Park, Harbourfront</td>\n    </tr>\n  </tbody>\n</table>\n</div>",
                        "text/plain": "  Postal Code\\n          Borough\\n              Neighborhood\\n\n0          M1A       Not assigned                Not assigned \n1          M2A       Not assigned                Not assigned \n2          M3A         North York                   Parkwoods \n3          M4A         North York            Victoria Village \n4          M5A   Downtown Toronto   Regent Park, Harbourfront "
                    },
                    "execution_count": 56,
                    "metadata": {},
                    "output_type": "execute_result"
                }
            ],
            "source": "df = df.replace('\\n',' ', regex=True)\ndf.head()"
        },
        {
            "cell_type": "code",
            "execution_count": 57,
            "metadata": {
                "scrolled": true
            },
            "outputs": [
                {
                    "data": {
                        "text/plain": "['Neighbourhood']"
                    },
                    "execution_count": 57,
                    "metadata": {},
                    "output_type": "execute_result"
                }
            ],
            "source": "cols[-1:]"
        },
        {
            "cell_type": "code",
            "execution_count": 58,
            "metadata": {},
            "outputs": [
                {
                    "data": {
                        "text/plain": "['Postcode', 'Borough']"
                    },
                    "execution_count": 58,
                    "metadata": {},
                    "output_type": "execute_result"
                }
            ],
            "source": "cols[:-1]"
        },
        {
            "cell_type": "markdown",
            "metadata": {},
            "source": "### Cleaning the messy string in the Borough column"
        },
        {
            "cell_type": "code",
            "execution_count": 59,
            "metadata": {},
            "outputs": [
                {
                    "data": {
                        "text/html": "<div>\n<style scoped>\n    .dataframe tbody tr th:only-of-type {\n        vertical-align: middle;\n    }\n\n    .dataframe tbody tr th {\n        vertical-align: top;\n    }\n\n    .dataframe thead th {\n        text-align: right;\n    }\n</style>\n<table border=\"1\" class=\"dataframe\">\n  <thead>\n    <tr style=\"text-align: right;\">\n      <th></th>\n      <th>Postal Code</th>\n      <th>Borough</th>\n      <th>Neighborhood</th>\n    </tr>\n  </thead>\n  <tbody>\n    <tr>\n      <th>0</th>\n      <td>M1A</td>\n      <td>Not assigned</td>\n      <td>Not assigned</td>\n    </tr>\n    <tr>\n      <th>1</th>\n      <td>M2A</td>\n      <td>Not assigned</td>\n      <td>Not assigned</td>\n    </tr>\n    <tr>\n      <th>2</th>\n      <td>M3A</td>\n      <td>North York</td>\n      <td>Parkwoods</td>\n    </tr>\n    <tr>\n      <th>3</th>\n      <td>M4A</td>\n      <td>North York</td>\n      <td>Victoria Village</td>\n    </tr>\n    <tr>\n      <th>4</th>\n      <td>M5A</td>\n      <td>Downtown Toronto</td>\n      <td>Regent Park, Harbourfront</td>\n    </tr>\n  </tbody>\n</table>\n</div>",
                        "text/plain": "  Postal Code\\n          Borough\\n              Neighborhood\\n\n0          M1A       Not assigned                Not assigned \n1          M2A       Not assigned                Not assigned \n2          M3A         North York                   Parkwoods \n3          M4A         North York            Victoria Village \n4          M5A   Downtown Toronto   Regent Park, Harbourfront "
                    },
                    "execution_count": 59,
                    "metadata": {},
                    "output_type": "execute_result"
                }
            ],
            "source": "df = df.replace('\\n',' ', regex=True)\ndf.head()"
        },
        {
            "cell_type": "markdown",
            "metadata": {},
            "source": "#### Dropping all cells with a borough that is Not assigned"
        },
        {
            "cell_type": "code",
            "execution_count": 62,
            "metadata": {},
            "outputs": [],
            "source": "df.rename(columns = {'Postal Code\\n':'Postal Code','Borough\\n':'Borough','Neighborhood\\n':'Neighbourhood'}, inplace = True) "
        },
        {
            "cell_type": "code",
            "execution_count": 63,
            "metadata": {
                "scrolled": true
            },
            "outputs": [
                {
                    "data": {
                        "text/plain": "Index(['Postal Code', 'Borough', 'Neighbourhood'], dtype='object')"
                    },
                    "execution_count": 63,
                    "metadata": {},
                    "output_type": "execute_result"
                }
            ],
            "source": "df.columns"
        },
        {
            "cell_type": "code",
            "execution_count": 65,
            "metadata": {},
            "outputs": [
                {
                    "data": {
                        "text/plain": "<bound method Series.unique of 0               Not assigned \n1               Not assigned \n2                 North York \n3                 North York \n4           Downtown Toronto \n5                 North York \n6           Downtown Toronto \n7               Not assigned \n8                  Etobicoke \n9                Scarborough \n10              Not assigned \n11                North York \n12                 East York \n13          Downtown Toronto \n14                North York \n15              Not assigned \n16              Not assigned \n17                 Etobicoke \n18               Scarborough \n19              Not assigned \n20                North York \n21                 East York \n22          Downtown Toronto \n23                      York \n24              Not assigned \n25              Not assigned \n26                 Etobicoke \n27               Scarborough \n28              Not assigned \n29              Not assigned \n                ...          \n151                Etobicoke \n152                Etobicoke \n153              Scarborough \n154             Not assigned \n155             Not assigned \n156         Downtown Toronto \n157         Downtown Toronto \n158             Not assigned \n159             Not assigned \n160                Etobicoke \n161             Not assigned \n162             Not assigned \n163             Not assigned \n164             Not assigned \n165         Downtown Toronto \n166             Not assigned \n167             Not assigned \n168             East Toronto \n169                Etobicoke \n170             Not assigned \n171             Not assigned \n172             Not assigned \n173             Not assigned \n174             Not assigned \n175             Not assigned \n176             Not assigned \n177             Not assigned \n178                Etobicoke \n179             Not assigned \n180    Canadian postal codes \nName: Borough, Length: 181, dtype: object>"
                    },
                    "execution_count": 65,
                    "metadata": {},
                    "output_type": "execute_result"
                }
            ],
            "source": "df['Borough'].unique"
        },
        {
            "cell_type": "code",
            "execution_count": 66,
            "metadata": {},
            "outputs": [
                {
                    "data": {
                        "text/html": "<div>\n<style scoped>\n    .dataframe tbody tr th:only-of-type {\n        vertical-align: middle;\n    }\n\n    .dataframe tbody tr th {\n        vertical-align: top;\n    }\n\n    .dataframe thead th {\n        text-align: right;\n    }\n</style>\n<table border=\"1\" class=\"dataframe\">\n  <thead>\n    <tr style=\"text-align: right;\">\n      <th></th>\n      <th>Postal Code</th>\n      <th>Borough</th>\n      <th>Neighbourhood</th>\n    </tr>\n  </thead>\n  <tbody>\n    <tr>\n      <th>0</th>\n      <td>M3A</td>\n      <td>North York</td>\n      <td>Parkwoods</td>\n    </tr>\n    <tr>\n      <th>1</th>\n      <td>M4A</td>\n      <td>North York</td>\n      <td>Victoria Village</td>\n    </tr>\n    <tr>\n      <th>2</th>\n      <td>M5A</td>\n      <td>Downtown Toronto</td>\n      <td>Regent Park, Harbourfront</td>\n    </tr>\n    <tr>\n      <th>3</th>\n      <td>M6A</td>\n      <td>North York</td>\n      <td>Lawrence Manor, Lawrence Heights</td>\n    </tr>\n    <tr>\n      <th>4</th>\n      <td>M7A</td>\n      <td>Downtown Toronto</td>\n      <td>Queen's Park, Ontario Provincial Government</td>\n    </tr>\n    <tr>\n      <th>5</th>\n      <td>M9A</td>\n      <td>Etobicoke</td>\n      <td>Islington Avenue, Humber Valley Village</td>\n    </tr>\n    <tr>\n      <th>6</th>\n      <td>M1B</td>\n      <td>Scarborough</td>\n      <td>Malvern, Rouge</td>\n    </tr>\n    <tr>\n      <th>7</th>\n      <td>M3B</td>\n      <td>North York</td>\n      <td>Don Mills</td>\n    </tr>\n    <tr>\n      <th>8</th>\n      <td>M4B</td>\n      <td>East York</td>\n      <td>Parkview Hill, Woodbine Gardens</td>\n    </tr>\n    <tr>\n      <th>9</th>\n      <td>M5B</td>\n      <td>Downtown Toronto</td>\n      <td>Garden District, Ryerson</td>\n    </tr>\n  </tbody>\n</table>\n</div>",
                        "text/plain": "  Postal Code            Borough                                 Neighbourhood\n0        M3A         North York                                     Parkwoods \n1        M4A         North York                              Victoria Village \n2        M5A   Downtown Toronto                     Regent Park, Harbourfront \n3        M6A         North York              Lawrence Manor, Lawrence Heights \n4        M7A   Downtown Toronto   Queen's Park, Ontario Provincial Government \n5        M9A          Etobicoke       Islington Avenue, Humber Valley Village \n6        M1B        Scarborough                                Malvern, Rouge \n7        M3B         North York                                     Don Mills \n8        M4B          East York               Parkview Hill, Woodbine Gardens \n9        M5B   Downtown Toronto                      Garden District, Ryerson "
                    },
                    "execution_count": 66,
                    "metadata": {},
                    "output_type": "execute_result"
                }
            ],
            "source": "df.drop(df.index[df[\"Borough\"] == 'Not assigned '], inplace = True)\n\n# Reset the index and dropping the previous index\ndf = df.reset_index(drop=True)\n\ndf.head(10)"
        },
        {
            "cell_type": "code",
            "execution_count": 70,
            "metadata": {},
            "outputs": [
                {
                    "data": {
                        "text/plain": "array([' ', 'Malvern, Rouge ', 'Rouge Hill, Port Union, Highland Creek ',\n       'Guildwood, Morningside, West Hill ', 'Woburn ', 'Cedarbrae ',\n       'Scarborough Village ',\n       'Kennedy Park, Ionview, East Birchmount Park ',\n       'Golden Mile, Clairlea, Oakridge ',\n       'Cliffside, Cliffcrest, Scarborough Village West ',\n       'Birch Cliff, Cliffside West ',\n       'Dorset Park, Wexford Heights, Scarborough Town Centre ',\n       'Wexford, Maryvale ', 'Agincourt ',\n       \"Clarks Corners, Tam O'Shanter, Sullivan \",\n       \"Milliken, Agincourt North, Steeles East, L'Amoreaux East \",\n       \"Steeles West, L'Amoreaux West \", 'Upper Rouge ',\n       'Hillcrest Village ', 'Fairview, Henry Farm, Oriole ',\n       'Bayview Village ', 'York Mills, Silver Hills ',\n       'Willowdale, Newtonbrook ', 'Willowdale, Willowdale East ',\n       'York Mills West ', 'Willowdale, Willowdale West ', 'Parkwoods ',\n       'Don Mills ', 'Bathurst Manor, Wilson Heights, Downsview North ',\n       'Northwood Park, York University ', 'Downsview ',\n       'Victoria Village ', 'Parkview Hill, Woodbine Gardens ',\n       'Woodbine Heights ', 'The Beaches ', 'Leaside ',\n       'Thorncliffe Park ',\n       'East Toronto, Broadview North (Old East York) ',\n       'The Danforth West, Riverdale ', 'India Bazaar, The Beaches West ',\n       'Studio District ', 'Lawrence Park ', 'Davisville North ',\n       'North Toronto West,  Lawrence Park ', 'Davisville ',\n       'Moore Park, Summerhill East ',\n       'Summerhill West, Rathnelly, South Hill, Forest Hill SE, Deer Park ',\n       'Rosedale ', 'St. James Town, Cabbagetown ',\n       'Church and Wellesley ', 'Regent Park, Harbourfront ',\n       'Garden District, Ryerson ', 'St. James Town ', 'Berczy Park ',\n       'Central Bay Street ', 'Richmond, Adelaide, King ',\n       'Harbourfront East, Union Station, Toronto Islands ',\n       'Toronto Dominion Centre, Design Exchange ',\n       'Commerce Court, Victoria Hotel ',\n       'Bedford Park, Lawrence Manor East ', 'Roselawn ',\n       'Forest Hill North & West, Forest Hill Road Park ',\n       'The Annex, North Midtown, Yorkville ',\n       'University of Toronto, Harbord ',\n       'Kensington Market, Chinatown, Grange Park ',\n       'CN Tower, King and Spadina, Railway Lands, Harbourfront West, Bathurst Quay, South Niagara, Island airport ',\n       'Stn A PO Boxes ', 'First Canadian Place, Underground city ',\n       'Lawrence Manor, Lawrence Heights ', 'Glencairn ',\n       'Humewood-Cedarvale ', 'Caledonia-Fairbanks ', 'Christie ',\n       'Dufferin, Dovercourt Village ', 'Little Portugal, Trinity ',\n       'Brockton, Parkdale Village, Exhibition Place ',\n       'North Park, Maple Leaf Park, Upwood Park ',\n       'Del Ray, Mount Dennis, Keelsdale and Silverthorn ',\n       'Runnymede, The Junction North ', 'High Park, The Junction South ',\n       'Parkdale, Roncesvalles ', 'Runnymede, Swansea ',\n       \"Queen's Park, Ontario Provincial Government \",\n       'Canada Post Gateway Processing Centre ',\n       'Business reply mail Processing Centre, South Central Letter Processing Plant Toronto ',\n       'New Toronto, Mimico South, Humber Bay Shores ',\n       'Alderwood, Long Branch ',\n       'The Kingsway, Montgomery Road, Old Mill North ',\n       \"Old Mill South, King's Mill Park, Sunnylea, Humber Bay, Mimico NE, The Queensway East, Royal York South East, Kingsway Park South East \",\n       'Mimico NW, The Queensway West, South of Bloor, Kingsway Park South West, Royal York South West ',\n       'Islington Avenue, Humber Valley Village ',\n       'West Deane Park, Princess Gardens, Martin Grove, Islington, Cloverdale ',\n       'Eringate, Bloordale Gardens, Old Burnhamthorpe, Markland Wood ',\n       'Humber Summit ', 'Humberlea, Emery ', 'Weston ', 'Westmount ',\n       'Kingsview Village, St. Phillips, Martin Grove Gardens, Richview Gardens ',\n       'South Steeles, Silverstone, Humbergate, Jamestown, Mount Olive, Beaumond Heights, Thistletown, Albion Gardens ',\n       'Northwest, West Humber - Clairville '], dtype=object)"
                    },
                    "execution_count": 70,
                    "metadata": {},
                    "output_type": "execute_result"
                }
            ],
            "source": "df['Neighbourhood'].unique()"
        },
        {
            "cell_type": "markdown",
            "metadata": {},
            "source": "#### Combining Neighbourhoods based on similar Postcode and Borough"
        },
        {
            "cell_type": "code",
            "execution_count": 69,
            "metadata": {},
            "outputs": [
                {
                    "data": {
                        "text/html": "<div>\n<style scoped>\n    .dataframe tbody tr th:only-of-type {\n        vertical-align: middle;\n    }\n\n    .dataframe tbody tr th {\n        vertical-align: top;\n    }\n\n    .dataframe thead th {\n        text-align: right;\n    }\n</style>\n<table border=\"1\" class=\"dataframe\">\n  <thead>\n    <tr style=\"text-align: right;\">\n      <th></th>\n      <th>Postal Code</th>\n      <th>Borough</th>\n      <th>Neighbourhood</th>\n    </tr>\n  </thead>\n  <tbody>\n    <tr>\n      <th>0</th>\n      <td></td>\n      <td>Canadian postal codes</td>\n      <td></td>\n    </tr>\n    <tr>\n      <th>1</th>\n      <td>M1B</td>\n      <td>Scarborough</td>\n      <td>Malvern, Rouge</td>\n    </tr>\n    <tr>\n      <th>2</th>\n      <td>M1C</td>\n      <td>Scarborough</td>\n      <td>Rouge Hill, Port Union, Highland Creek</td>\n    </tr>\n    <tr>\n      <th>3</th>\n      <td>M1E</td>\n      <td>Scarborough</td>\n      <td>Guildwood, Morningside, West Hill</td>\n    </tr>\n    <tr>\n      <th>4</th>\n      <td>M1G</td>\n      <td>Scarborough</td>\n      <td>Woburn</td>\n    </tr>\n    <tr>\n      <th>5</th>\n      <td>M1H</td>\n      <td>Scarborough</td>\n      <td>Cedarbrae</td>\n    </tr>\n    <tr>\n      <th>6</th>\n      <td>M1J</td>\n      <td>Scarborough</td>\n      <td>Scarborough Village</td>\n    </tr>\n    <tr>\n      <th>7</th>\n      <td>M1K</td>\n      <td>Scarborough</td>\n      <td>Kennedy Park, Ionview, East Birchmount Park</td>\n    </tr>\n    <tr>\n      <th>8</th>\n      <td>M1L</td>\n      <td>Scarborough</td>\n      <td>Golden Mile, Clairlea, Oakridge</td>\n    </tr>\n    <tr>\n      <th>9</th>\n      <td>M1M</td>\n      <td>Scarborough</td>\n      <td>Cliffside, Cliffcrest, Scarborough Village West</td>\n    </tr>\n  </tbody>\n</table>\n</div>",
                        "text/plain": "  Postal Code                 Borough  \\\n0              Canadian postal codes    \n1        M1B             Scarborough    \n2        M1C             Scarborough    \n3        M1E             Scarborough    \n4        M1G             Scarborough    \n5        M1H             Scarborough    \n6        M1J             Scarborough    \n7        M1K             Scarborough    \n8        M1L             Scarborough    \n9        M1M             Scarborough    \n\n                                      Neighbourhood  \n0                                                    \n1                                   Malvern, Rouge   \n2           Rouge Hill, Port Union, Highland Creek   \n3                Guildwood, Morningside, West Hill   \n4                                           Woburn   \n5                                        Cedarbrae   \n6                              Scarborough Village   \n7      Kennedy Park, Ionview, East Birchmount Park   \n8                  Golden Mile, Clairlea, Oakridge   \n9  Cliffside, Cliffcrest, Scarborough Village West   "
                    },
                    "execution_count": 69,
                    "metadata": {},
                    "output_type": "execute_result"
                }
            ],
            "source": "df = df.groupby(['Postal Code', 'Borough'])['Neighbourhood'].apply(','.join).reset_index()\ndf.columns = ['Postal Code','Borough','Neighbourhood']\ndf.head(10)"
        },
        {
            "cell_type": "code",
            "execution_count": 86,
            "metadata": {},
            "outputs": [],
            "source": "df.drop(df.index[df['Borough'] == 'Canadian postal codes'], inplace = True)"
        },
        {
            "cell_type": "markdown",
            "metadata": {},
            "source": "#### Removing any space in the start of the string"
        },
        {
            "cell_type": "code",
            "execution_count": 87,
            "metadata": {},
            "outputs": [],
            "source": "df['Neighbourhood'] = df['Neighbourhood'].str.strip()"
        },
        {
            "cell_type": "code",
            "execution_count": 88,
            "metadata": {},
            "outputs": [
                {
                    "data": {
                        "text/html": "<div>\n<style scoped>\n    .dataframe tbody tr th:only-of-type {\n        vertical-align: middle;\n    }\n\n    .dataframe tbody tr th {\n        vertical-align: top;\n    }\n\n    .dataframe thead th {\n        text-align: right;\n    }\n</style>\n<table border=\"1\" class=\"dataframe\">\n  <thead>\n    <tr style=\"text-align: right;\">\n      <th></th>\n      <th>Postal Code</th>\n      <th>Borough</th>\n      <th>Neighbourhood</th>\n    </tr>\n  </thead>\n  <tbody>\n    <tr>\n      <th>98</th>\n      <td>M9M</td>\n      <td>North York</td>\n      <td>Humberlea, Emery</td>\n    </tr>\n    <tr>\n      <th>86</th>\n      <td>M7A</td>\n      <td>Downtown Toronto</td>\n      <td>Queen's Park, Ontario Provincial Government</td>\n    </tr>\n    <tr>\n      <th>61</th>\n      <td>M5K</td>\n      <td>Downtown Toronto</td>\n      <td>Toronto Dominion Centre, Design Exchange</td>\n    </tr>\n    <tr>\n      <th>67</th>\n      <td>M5S</td>\n      <td>Downtown Toronto</td>\n      <td>University of Toronto, Harbord</td>\n    </tr>\n    <tr>\n      <th>89</th>\n      <td>M8V</td>\n      <td>Etobicoke</td>\n      <td>New Toronto, Mimico South, Humber Bay Shores</td>\n    </tr>\n  </tbody>\n</table>\n</div>",
                        "text/plain": "   Postal Code            Borough  \\\n98        M9M         North York    \n86        M7A   Downtown Toronto    \n61        M5K   Downtown Toronto    \n67        M5S   Downtown Toronto    \n89        M8V          Etobicoke    \n\n                                   Neighbourhood  \n98                              Humberlea, Emery  \n86   Queen's Park, Ontario Provincial Government  \n61      Toronto Dominion Centre, Design Exchange  \n67                University of Toronto, Harbord  \n89  New Toronto, Mimico South, Humber Bay Shores  "
                    },
                    "execution_count": 88,
                    "metadata": {},
                    "output_type": "execute_result"
                }
            ],
            "source": "df.sample(5)"
        },
        {
            "cell_type": "code",
            "execution_count": 89,
            "metadata": {},
            "outputs": [
                {
                    "data": {
                        "text/html": "<div>\n<style scoped>\n    .dataframe tbody tr th:only-of-type {\n        vertical-align: middle;\n    }\n\n    .dataframe tbody tr th {\n        vertical-align: top;\n    }\n\n    .dataframe thead th {\n        text-align: right;\n    }\n</style>\n<table border=\"1\" class=\"dataframe\">\n  <thead>\n    <tr style=\"text-align: right;\">\n      <th></th>\n      <th>Postal Code</th>\n      <th>Borough</th>\n      <th>Neighbourhood</th>\n    </tr>\n  </thead>\n  <tbody>\n  </tbody>\n</table>\n</div>",
                        "text/plain": "Empty DataFrame\nColumns: [Postal Code, Borough, Neighbourhood]\nIndex: []"
                    },
                    "execution_count": 89,
                    "metadata": {},
                    "output_type": "execute_result"
                }
            ],
            "source": "df[df['Borough'] == 'Queen\\'s Park']"
        },
        {
            "cell_type": "code",
            "execution_count": 90,
            "metadata": {},
            "outputs": [
                {
                    "data": {
                        "text/plain": "<bound method Series.unique of 0                                                       \n1                                         Malvern, Rouge\n2                 Rouge Hill, Port Union, Highland Creek\n3                      Guildwood, Morningside, West Hill\n4                                                 Woburn\n5                                              Cedarbrae\n6                                    Scarborough Village\n7            Kennedy Park, Ionview, East Birchmount Park\n8                        Golden Mile, Clairlea, Oakridge\n9        Cliffside, Cliffcrest, Scarborough Village West\n10                           Birch Cliff, Cliffside West\n11     Dorset Park, Wexford Heights, Scarborough Town...\n12                                     Wexford, Maryvale\n13                                             Agincourt\n14               Clarks Corners, Tam O'Shanter, Sullivan\n15     Milliken, Agincourt North, Steeles East, L'Amo...\n16                         Steeles West, L'Amoreaux West\n17                                           Upper Rouge\n18                                     Hillcrest Village\n19                          Fairview, Henry Farm, Oriole\n20                                       Bayview Village\n21                              York Mills, Silver Hills\n22                               Willowdale, Newtonbrook\n23                           Willowdale, Willowdale East\n24                                       York Mills West\n25                           Willowdale, Willowdale West\n26                                             Parkwoods\n27                                             Don Mills\n28                                             Don Mills\n29       Bathurst Manor, Wilson Heights, Downsview North\n                             ...                        \n74                                    Humewood-Cedarvale\n75                                   Caledonia-Fairbanks\n76                                              Christie\n77                          Dufferin, Dovercourt Village\n78                              Little Portugal, Trinity\n79          Brockton, Parkdale Village, Exhibition Place\n80              North Park, Maple Leaf Park, Upwood Park\n81      Del Ray, Mount Dennis, Keelsdale and Silverthorn\n82                         Runnymede, The Junction North\n83                         High Park, The Junction South\n84                                Parkdale, Roncesvalles\n85                                    Runnymede, Swansea\n86           Queen's Park, Ontario Provincial Government\n87                 Canada Post Gateway Processing Centre\n88     Business reply mail Processing Centre, South C...\n89          New Toronto, Mimico South, Humber Bay Shores\n90                                Alderwood, Long Branch\n91         The Kingsway, Montgomery Road, Old Mill North\n92     Old Mill South, King's Mill Park, Sunnylea, Hu...\n93     Mimico NW, The Queensway West, South of Bloor,...\n94               Islington Avenue, Humber Valley Village\n95     West Deane Park, Princess Gardens, Martin Grov...\n96     Eringate, Bloordale Gardens, Old Burnhamthorpe...\n97                                         Humber Summit\n98                                      Humberlea, Emery\n99                                                Weston\n100                                            Westmount\n101    Kingsview Village, St. Phillips, Martin Grove ...\n102    South Steeles, Silverstone, Humbergate, Jamest...\n103                  Northwest, West Humber - Clairville\nName: Neighbourhood, Length: 104, dtype: object>"
                    },
                    "execution_count": 90,
                    "metadata": {},
                    "output_type": "execute_result"
                }
            ],
            "source": "df['Neighbourhood'].unique"
        },
        {
            "cell_type": "code",
            "execution_count": 91,
            "metadata": {},
            "outputs": [],
            "source": "df_neigh = df.loc[df['Neighbourhood'] == 'Not assigned', 'Neighbourhood']"
        },
        {
            "cell_type": "code",
            "execution_count": 92,
            "metadata": {},
            "outputs": [
                {
                    "data": {
                        "text/plain": "Series([], Name: Neighbourhood, dtype: object)"
                    },
                    "execution_count": 92,
                    "metadata": {},
                    "output_type": "execute_result"
                }
            ],
            "source": "df_neigh"
        },
        {
            "cell_type": "code",
            "execution_count": 93,
            "metadata": {},
            "outputs": [],
            "source": "df_neigh = df.loc[df['Neighbourhood'] == 'Not assigned']"
        },
        {
            "cell_type": "code",
            "execution_count": 94,
            "metadata": {},
            "outputs": [
                {
                    "data": {
                        "text/html": "<div>\n<style scoped>\n    .dataframe tbody tr th:only-of-type {\n        vertical-align: middle;\n    }\n\n    .dataframe tbody tr th {\n        vertical-align: top;\n    }\n\n    .dataframe thead th {\n        text-align: right;\n    }\n</style>\n<table border=\"1\" class=\"dataframe\">\n  <thead>\n    <tr style=\"text-align: right;\">\n      <th></th>\n      <th>Postal Code</th>\n      <th>Borough</th>\n      <th>Neighbourhood</th>\n    </tr>\n  </thead>\n  <tbody>\n  </tbody>\n</table>\n</div>",
                        "text/plain": "Empty DataFrame\nColumns: [Postal Code, Borough, Neighbourhood]\nIndex: []"
                    },
                    "execution_count": 94,
                    "metadata": {},
                    "output_type": "execute_result"
                }
            ],
            "source": "df_neigh"
        },
        {
            "cell_type": "markdown",
            "metadata": {},
            "source": "#### Assigning Borough values to the Neignbourhood where vlaue is \"Not assigned\""
        },
        {
            "cell_type": "code",
            "execution_count": 95,
            "metadata": {},
            "outputs": [],
            "source": "df.loc[df['Neighbourhood'] == 'Not assigned', 'Neighbourhood'] = df['Borough']"
        },
        {
            "cell_type": "code",
            "execution_count": 96,
            "metadata": {},
            "outputs": [
                {
                    "data": {
                        "text/html": "<div>\n<style scoped>\n    .dataframe tbody tr th:only-of-type {\n        vertical-align: middle;\n    }\n\n    .dataframe tbody tr th {\n        vertical-align: top;\n    }\n\n    .dataframe thead th {\n        text-align: right;\n    }\n</style>\n<table border=\"1\" class=\"dataframe\">\n  <thead>\n    <tr style=\"text-align: right;\">\n      <th></th>\n      <th>Postal Code</th>\n      <th>Borough</th>\n      <th>Neighbourhood</th>\n    </tr>\n  </thead>\n  <tbody>\n  </tbody>\n</table>\n</div>",
                        "text/plain": "Empty DataFrame\nColumns: [Postal Code, Borough, Neighbourhood]\nIndex: []"
                    },
                    "execution_count": 96,
                    "metadata": {},
                    "output_type": "execute_result"
                }
            ],
            "source": "# Check if the Neighbourhood for Queen's Park changed \ndf[df['Borough'] == 'Queen\\'s Park']"
        },
        {
            "cell_type": "code",
            "execution_count": 97,
            "metadata": {},
            "outputs": [
                {
                    "data": {
                        "text/plain": "(104, 3)"
                    },
                    "execution_count": 97,
                    "metadata": {},
                    "output_type": "execute_result"
                }
            ],
            "source": "# Check the shape of the data frame\ndf.shape"
        },
        {
            "cell_type": "code",
            "execution_count": null,
            "metadata": {},
            "outputs": [],
            "source": ""
        }
    ],
    "metadata": {
        "kernelspec": {
            "display_name": "Python 3.6",
            "language": "python",
            "name": "python3"
        },
        "language_info": {
            "codemirror_mode": {
                "name": "ipython",
                "version": 3
            },
            "file_extension": ".py",
            "mimetype": "text/x-python",
            "name": "python",
            "nbconvert_exporter": "python",
            "pygments_lexer": "ipython3",
            "version": "3.6.9"
        }
    },
    "nbformat": 4,
    "nbformat_minor": 1
}