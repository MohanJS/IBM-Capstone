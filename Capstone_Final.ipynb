{
    "cells": [
        {
            "metadata": {
                "button": false,
                "new_sheet": false,
                "run_control": {
                    "read_only": false
                }
            },
            "cell_type": "markdown",
            "source": "<a href=\"https://www.bigdatauniversity.com\"><img src=\"https://ibm.box.com/shared/static/cw2c7r3o20w9zn8gkecaeyjhgw3xdgbj.png\" width=\"400\" align=\"center\"></a>\n\n<h1 align=\"center\"><font size=\"5\">Classification with Python</font></h1>"
        },
        {
            "metadata": {
                "button": false,
                "new_sheet": false,
                "run_control": {
                    "read_only": false
                }
            },
            "cell_type": "markdown",
            "source": "In this notebook we try to practice all the classification algorithms that we learned in this course.\n\nWe load a dataset using Pandas library, and apply the following algorithms, and find the best one for this specific dataset by accuracy evaluation methods.\n\nLets first load required libraries:"
        },
        {
            "metadata": {
                "button": false,
                "new_sheet": false,
                "run_control": {
                    "read_only": false
                }
            },
            "cell_type": "code",
            "source": "import itertools\nimport numpy as np\nimport matplotlib.pyplot as plt\nfrom matplotlib.ticker import NullFormatter\nimport pandas as pd\nimport numpy as np\nimport matplotlib.ticker as ticker\nfrom sklearn import preprocessing\n%matplotlib inline",
            "execution_count": 1,
            "outputs": []
        },
        {
            "metadata": {
                "button": false,
                "new_sheet": false,
                "run_control": {
                    "read_only": false
                }
            },
            "cell_type": "markdown",
            "source": "### About dataset"
        },
        {
            "metadata": {
                "button": false,
                "new_sheet": false,
                "run_control": {
                    "read_only": false
                }
            },
            "cell_type": "markdown",
            "source": "This dataset is about past loans. The __Loan_train.csv__ data set includes details of 346 customers whose loan are already paid off or defaulted. It includes following fields:\n\n| Field          | Description                                                                           |\n|----------------|---------------------------------------------------------------------------------------|\n| Loan_status    | Whether a loan is paid off on in collection                                           |\n| Principal      | Basic principal loan amount at the                                                    |\n| Terms          | Origination terms which can be weekly (7 days), biweekly, and monthly payoff schedule |\n| Effective_date | When the loan got originated and took effects                                         |\n| Due_date       | Since it\u2019s one-time payoff schedule, each loan has one single due date                |\n| Age            | Age of applicant                                                                      |\n| Education      | Education of applicant                                                                |\n| Gender         | The gender of applicant                                                               |"
        },
        {
            "metadata": {
                "button": false,
                "new_sheet": false,
                "run_control": {
                    "read_only": false
                }
            },
            "cell_type": "markdown",
            "source": "Lets download the dataset"
        },
        {
            "metadata": {
                "button": false,
                "new_sheet": false,
                "run_control": {
                    "read_only": false
                }
            },
            "cell_type": "code",
            "source": "!wget -O loan_train.csv https://s3-api.us-geo.objectstorage.softlayer.net/cf-courses-data/CognitiveClass/ML0101ENv3/labs/loan_train.csv",
            "execution_count": 2,
            "outputs": [
                {
                    "output_type": "stream",
                    "text": "--2020-06-12 08:58:33--  https://s3-api.us-geo.objectstorage.softlayer.net/cf-courses-data/CognitiveClass/ML0101ENv3/labs/loan_train.csv\nResolving s3-api.us-geo.objectstorage.softlayer.net (s3-api.us-geo.objectstorage.softlayer.net)... 67.228.254.196\nConnecting to s3-api.us-geo.objectstorage.softlayer.net (s3-api.us-geo.objectstorage.softlayer.net)|67.228.254.196|:443... connected.\nHTTP request sent, awaiting response... 200 OK\nLength: 23101 (23K) [text/csv]\nSaving to: \u2018loan_train.csv\u2019\n\n100%[======================================>] 23,101      --.-K/s   in 0.002s  \n\n2020-06-12 08:58:34 (13.6 MB/s) - \u2018loan_train.csv\u2019 saved [23101/23101]\n\n",
                    "name": "stdout"
                }
            ]
        },
        {
            "metadata": {},
            "cell_type": "code",
            "source": "df = pd.read_csv('https://s3-api.us-geo.objectstorage.softlayer.net/cf-courses-data/CognitiveClass/ML0101ENv3/labs/loan_train.csv')\n\nprint('Data downloaded and read into a dataframe!')",
            "execution_count": 3,
            "outputs": [
                {
                    "output_type": "stream",
                    "text": "Data downloaded and read into a dataframe!\n",
                    "name": "stdout"
                }
            ]
        },
        {
            "metadata": {
                "button": false,
                "new_sheet": false,
                "run_control": {
                    "read_only": false
                }
            },
            "cell_type": "markdown",
            "source": "### Load Data From CSV File  "
        },
        {
            "metadata": {
                "button": false,
                "new_sheet": false,
                "run_control": {
                    "read_only": false
                }
            },
            "cell_type": "code",
            "source": "df.to_csv('loan_train.csv')\ndf = pd.read_csv('loan_train.csv')\ndf.head()",
            "execution_count": 4,
            "outputs": [
                {
                    "output_type": "execute_result",
                    "execution_count": 4,
                    "data": {
                        "text/plain": "   Unnamed: 0  Unnamed: 0.1  Unnamed: 0.1.1 loan_status  Principal  terms  \\\n0           0             0               0     PAIDOFF       1000     30   \n1           1             2               2     PAIDOFF       1000     30   \n2           2             3               3     PAIDOFF       1000     15   \n3           3             4               4     PAIDOFF       1000     30   \n4           4             6               6     PAIDOFF       1000     30   \n\n  effective_date   due_date  age             education  Gender  \n0       9/8/2016  10/7/2016   45  High School or Below    male  \n1       9/8/2016  10/7/2016   33              Bechalor  female  \n2       9/8/2016  9/22/2016   27               college    male  \n3       9/9/2016  10/8/2016   28               college  female  \n4       9/9/2016  10/8/2016   29               college    male  ",
                        "text/html": "<div>\n<style scoped>\n    .dataframe tbody tr th:only-of-type {\n        vertical-align: middle;\n    }\n\n    .dataframe tbody tr th {\n        vertical-align: top;\n    }\n\n    .dataframe thead th {\n        text-align: right;\n    }\n</style>\n<table border=\"1\" class=\"dataframe\">\n  <thead>\n    <tr style=\"text-align: right;\">\n      <th></th>\n      <th>Unnamed: 0</th>\n      <th>Unnamed: 0.1</th>\n      <th>Unnamed: 0.1.1</th>\n      <th>loan_status</th>\n      <th>Principal</th>\n      <th>terms</th>\n      <th>effective_date</th>\n      <th>due_date</th>\n      <th>age</th>\n      <th>education</th>\n      <th>Gender</th>\n    </tr>\n  </thead>\n  <tbody>\n    <tr>\n      <th>0</th>\n      <td>0</td>\n      <td>0</td>\n      <td>0</td>\n      <td>PAIDOFF</td>\n      <td>1000</td>\n      <td>30</td>\n      <td>9/8/2016</td>\n      <td>10/7/2016</td>\n      <td>45</td>\n      <td>High School or Below</td>\n      <td>male</td>\n    </tr>\n    <tr>\n      <th>1</th>\n      <td>1</td>\n      <td>2</td>\n      <td>2</td>\n      <td>PAIDOFF</td>\n      <td>1000</td>\n      <td>30</td>\n      <td>9/8/2016</td>\n      <td>10/7/2016</td>\n      <td>33</td>\n      <td>Bechalor</td>\n      <td>female</td>\n    </tr>\n    <tr>\n      <th>2</th>\n      <td>2</td>\n      <td>3</td>\n      <td>3</td>\n      <td>PAIDOFF</td>\n      <td>1000</td>\n      <td>15</td>\n      <td>9/8/2016</td>\n      <td>9/22/2016</td>\n      <td>27</td>\n      <td>college</td>\n      <td>male</td>\n    </tr>\n    <tr>\n      <th>3</th>\n      <td>3</td>\n      <td>4</td>\n      <td>4</td>\n      <td>PAIDOFF</td>\n      <td>1000</td>\n      <td>30</td>\n      <td>9/9/2016</td>\n      <td>10/8/2016</td>\n      <td>28</td>\n      <td>college</td>\n      <td>female</td>\n    </tr>\n    <tr>\n      <th>4</th>\n      <td>4</td>\n      <td>6</td>\n      <td>6</td>\n      <td>PAIDOFF</td>\n      <td>1000</td>\n      <td>30</td>\n      <td>9/9/2016</td>\n      <td>10/8/2016</td>\n      <td>29</td>\n      <td>college</td>\n      <td>male</td>\n    </tr>\n  </tbody>\n</table>\n</div>"
                    },
                    "metadata": {}
                }
            ]
        },
        {
            "metadata": {},
            "cell_type": "code",
            "source": "df.shape",
            "execution_count": 5,
            "outputs": [
                {
                    "output_type": "execute_result",
                    "execution_count": 5,
                    "data": {
                        "text/plain": "(346, 11)"
                    },
                    "metadata": {}
                }
            ]
        },
        {
            "metadata": {
                "button": false,
                "new_sheet": false,
                "run_control": {
                    "read_only": false
                }
            },
            "cell_type": "markdown",
            "source": "### Convert to date time object "
        },
        {
            "metadata": {
                "button": false,
                "new_sheet": false,
                "run_control": {
                    "read_only": false
                }
            },
            "cell_type": "code",
            "source": "df['due_date'] = pd.to_datetime(df['due_date'])\ndf['effective_date'] = pd.to_datetime(df['effective_date'])\ndf.head()",
            "execution_count": 6,
            "outputs": [
                {
                    "output_type": "execute_result",
                    "execution_count": 6,
                    "data": {
                        "text/plain": "   Unnamed: 0  Unnamed: 0.1  Unnamed: 0.1.1 loan_status  Principal  terms  \\\n0           0             0               0     PAIDOFF       1000     30   \n1           1             2               2     PAIDOFF       1000     30   \n2           2             3               3     PAIDOFF       1000     15   \n3           3             4               4     PAIDOFF       1000     30   \n4           4             6               6     PAIDOFF       1000     30   \n\n  effective_date   due_date  age             education  Gender  \n0     2016-09-08 2016-10-07   45  High School or Below    male  \n1     2016-09-08 2016-10-07   33              Bechalor  female  \n2     2016-09-08 2016-09-22   27               college    male  \n3     2016-09-09 2016-10-08   28               college  female  \n4     2016-09-09 2016-10-08   29               college    male  ",
                        "text/html": "<div>\n<style scoped>\n    .dataframe tbody tr th:only-of-type {\n        vertical-align: middle;\n    }\n\n    .dataframe tbody tr th {\n        vertical-align: top;\n    }\n\n    .dataframe thead th {\n        text-align: right;\n    }\n</style>\n<table border=\"1\" class=\"dataframe\">\n  <thead>\n    <tr style=\"text-align: right;\">\n      <th></th>\n      <th>Unnamed: 0</th>\n      <th>Unnamed: 0.1</th>\n      <th>Unnamed: 0.1.1</th>\n      <th>loan_status</th>\n      <th>Principal</th>\n      <th>terms</th>\n      <th>effective_date</th>\n      <th>due_date</th>\n      <th>age</th>\n      <th>education</th>\n      <th>Gender</th>\n    </tr>\n  </thead>\n  <tbody>\n    <tr>\n      <th>0</th>\n      <td>0</td>\n      <td>0</td>\n      <td>0</td>\n      <td>PAIDOFF</td>\n      <td>1000</td>\n      <td>30</td>\n      <td>2016-09-08</td>\n      <td>2016-10-07</td>\n      <td>45</td>\n      <td>High School or Below</td>\n      <td>male</td>\n    </tr>\n    <tr>\n      <th>1</th>\n      <td>1</td>\n      <td>2</td>\n      <td>2</td>\n      <td>PAIDOFF</td>\n      <td>1000</td>\n      <td>30</td>\n      <td>2016-09-08</td>\n      <td>2016-10-07</td>\n      <td>33</td>\n      <td>Bechalor</td>\n      <td>female</td>\n    </tr>\n    <tr>\n      <th>2</th>\n      <td>2</td>\n      <td>3</td>\n      <td>3</td>\n      <td>PAIDOFF</td>\n      <td>1000</td>\n      <td>15</td>\n      <td>2016-09-08</td>\n      <td>2016-09-22</td>\n      <td>27</td>\n      <td>college</td>\n      <td>male</td>\n    </tr>\n    <tr>\n      <th>3</th>\n      <td>3</td>\n      <td>4</td>\n      <td>4</td>\n      <td>PAIDOFF</td>\n      <td>1000</td>\n      <td>30</td>\n      <td>2016-09-09</td>\n      <td>2016-10-08</td>\n      <td>28</td>\n      <td>college</td>\n      <td>female</td>\n    </tr>\n    <tr>\n      <th>4</th>\n      <td>4</td>\n      <td>6</td>\n      <td>6</td>\n      <td>PAIDOFF</td>\n      <td>1000</td>\n      <td>30</td>\n      <td>2016-09-09</td>\n      <td>2016-10-08</td>\n      <td>29</td>\n      <td>college</td>\n      <td>male</td>\n    </tr>\n  </tbody>\n</table>\n</div>"
                    },
                    "metadata": {}
                }
            ]
        },
        {
            "metadata": {
                "button": false,
                "new_sheet": false,
                "run_control": {
                    "read_only": false
                }
            },
            "cell_type": "markdown",
            "source": "# Data visualization and pre-processing\n\n"
        },
        {
            "metadata": {
                "button": false,
                "new_sheet": false,
                "run_control": {
                    "read_only": false
                }
            },
            "cell_type": "markdown",
            "source": "Let\u2019s see how many of each class is in our data set "
        },
        {
            "metadata": {
                "button": false,
                "new_sheet": false,
                "run_control": {
                    "read_only": false
                }
            },
            "cell_type": "code",
            "source": "df['loan_status'].value_counts()",
            "execution_count": 7,
            "outputs": [
                {
                    "output_type": "execute_result",
                    "execution_count": 7,
                    "data": {
                        "text/plain": "PAIDOFF       260\nCOLLECTION     86\nName: loan_status, dtype: int64"
                    },
                    "metadata": {}
                }
            ]
        },
        {
            "metadata": {
                "button": false,
                "new_sheet": false,
                "run_control": {
                    "read_only": false
                }
            },
            "cell_type": "markdown",
            "source": "260 people have paid off the loan on time while 86 have gone into collection \n"
        },
        {
            "metadata": {},
            "cell_type": "markdown",
            "source": "Lets plot some columns to underestand data better:"
        },
        {
            "metadata": {},
            "cell_type": "code",
            "source": "# notice: installing seaborn might takes a few minutes\n!conda install -c anaconda seaborn -y",
            "execution_count": 8,
            "outputs": [
                {
                    "output_type": "stream",
                    "text": "Solving environment: done\n\n## Package Plan ##\n\n  environment location: /opt/conda/envs/Python36\n\n  added / updated specs: \n    - seaborn\n\n\nThe following packages will be downloaded:\n\n    package                    |            build\n    ---------------------------|-----------------\n    certifi-2020.4.5.1         |           py36_0         159 KB  anaconda\n    openssl-1.1.1g             |       h7b6447c_0         3.8 MB  anaconda\n    ca-certificates-2020.1.1   |                0         132 KB  anaconda\n    seaborn-0.10.1             |             py_0         160 KB  anaconda\n    ------------------------------------------------------------\n                                           Total:         4.2 MB\n\nThe following packages will be UPDATED:\n\n    ca-certificates: 2020.1.1-0         --> 2020.1.1-0        anaconda\n    certifi:         2020.4.5.1-py36_0  --> 2020.4.5.1-py36_0 anaconda\n    openssl:         1.1.1g-h7b6447c_0  --> 1.1.1g-h7b6447c_0 anaconda\n    seaborn:         0.9.0-pyh91ea838_1 --> 0.10.1-py_0       anaconda\n\n\nDownloading and Extracting Packages\ncertifi-2020.4.5.1   | 159 KB    | ##################################### | 100% \nopenssl-1.1.1g       | 3.8 MB    | ##################################### | 100% \nca-certificates-2020 | 132 KB    | ##################################### | 100% \nseaborn-0.10.1       | 160 KB    | ##################################### | 100% \nPreparing transaction: done\nVerifying transaction: done\nExecuting transaction: done\n",
                    "name": "stdout"
                }
            ]
        },
        {
            "metadata": {},
            "cell_type": "code",
            "source": "import seaborn as sns\n\nbins = np.linspace(df.Principal.min(), df.Principal.max(), 10)\ng = sns.FacetGrid(df, col=\"Gender\", hue=\"loan_status\", palette=\"Set1\", col_wrap=2)\ng.map(plt.hist, 'Principal', bins=bins, ec=\"k\")\n\ng.axes[-1].legend()\nplt.show()",
            "execution_count": 8,
            "outputs": [
                {
                    "output_type": "display_data",
                    "data": {
                        "text/plain": "<Figure size 432x216 with 2 Axes>",
                        "image/png": "[encoded data removed]"
                    },
                    "metadata": {
                        "needs_background": "light"
                    }
                }
            ]
        },
        {
            "metadata": {
                "button": false,
                "new_sheet": false,
                "run_control": {
                    "read_only": false
                }
            },
            "cell_type": "code",
            "source": "bins = np.linspace(df.age.min(), df.age.max(), 10)\ng = sns.FacetGrid(df, col=\"Gender\", hue=\"loan_status\", palette=\"Set1\", col_wrap=2)\ng.map(plt.hist, 'age', bins=bins, ec=\"k\")\n\ng.axes[-1].legend()\nplt.show()",
            "execution_count": 9,
            "outputs": [
                {
                    "output_type": "display_data",
                    "data": {
                        "text/plain": "<Figure size 432x216 with 2 Axes>",
                        "image/png": "[encoded data removed]"
                    },
                    "metadata": {
                        "needs_background": "light"
                    }
                }
            ]
        },
        {
            "metadata": {
                "button": false,
                "new_sheet": false,
                "run_control": {
                    "read_only": false
                }
            },
            "cell_type": "markdown",
            "source": "# Pre-processing:  Feature selection/extraction"
        },
        {
            "metadata": {
                "button": false,
                "new_sheet": false,
                "run_control": {
                    "read_only": false
                }
            },
            "cell_type": "markdown",
            "source": "### Lets look at the day of the week people get the loan "
        },
        {
            "metadata": {
                "button": false,
                "new_sheet": false,
                "run_control": {
                    "read_only": false
                }
            },
            "cell_type": "code",
            "source": "df['dayofweek'] = df['effective_date'].dt.dayofweek\nbins = np.linspace(df.dayofweek.min(), df.dayofweek.max(), 10)\ng = sns.FacetGrid(df, col=\"Gender\", hue=\"loan_status\", palette=\"Set1\", col_wrap=2)\ng.map(plt.hist, 'dayofweek', bins=bins, ec=\"k\")\ng.axes[-1].legend()\nplt.show()\n",
            "execution_count": 10,
            "outputs": [
                {
                    "output_type": "display_data",
                    "data": {
                        "text/plain": "<Figure size 432x216 with 2 Axes>",
                        "image/png": "[encoded data removed]"
                    },
                    "metadata": {
                        "needs_background": "light"
                    }
                }
            ]
        },
        {
            "metadata": {
                "button": false,
                "new_sheet": false,
                "run_control": {
                    "read_only": false
                }
            },
            "cell_type": "markdown",
            "source": "We see that people who get the loan at the end of the week dont pay it off, so lets use Feature binarization to set a threshold values less then day 4 "
        },
        {
            "metadata": {
                "button": false,
                "new_sheet": false,
                "run_control": {
                    "read_only": false
                }
            },
            "cell_type": "code",
            "source": "df['weekend'] = df['dayofweek'].apply(lambda x: 1 if (x>3)  else 0)\ndf.head()",
            "execution_count": 11,
            "outputs": [
                {
                    "output_type": "execute_result",
                    "execution_count": 11,
                    "data": {
                        "text/plain": "   Unnamed: 0  Unnamed: 0.1  Unnamed: 0.1.1 loan_status  Principal  terms  \\\n0           0             0               0     PAIDOFF       1000     30   \n1           1             2               2     PAIDOFF       1000     30   \n2           2             3               3     PAIDOFF       1000     15   \n3           3             4               4     PAIDOFF       1000     30   \n4           4             6               6     PAIDOFF       1000     30   \n\n  effective_date   due_date  age             education  Gender  dayofweek  \\\n0     2016-09-08 2016-10-07   45  High School or Below    male          3   \n1     2016-09-08 2016-10-07   33              Bechalor  female          3   \n2     2016-09-08 2016-09-22   27               college    male          3   \n3     2016-09-09 2016-10-08   28               college  female          4   \n4     2016-09-09 2016-10-08   29               college    male          4   \n\n   weekend  \n0        0  \n1        0  \n2        0  \n3        1  \n4        1  ",
                        "text/html": "<div>\n<style scoped>\n    .dataframe tbody tr th:only-of-type {\n        vertical-align: middle;\n    }\n\n    .dataframe tbody tr th {\n        vertical-align: top;\n    }\n\n    .dataframe thead th {\n        text-align: right;\n    }\n</style>\n<table border=\"1\" class=\"dataframe\">\n  <thead>\n    <tr style=\"text-align: right;\">\n      <th></th>\n      <th>Unnamed: 0</th>\n      <th>Unnamed: 0.1</th>\n      <th>Unnamed: 0.1.1</th>\n      <th>loan_status</th>\n      <th>Principal</th>\n      <th>terms</th>\n      <th>effective_date</th>\n      <th>due_date</th>\n      <th>age</th>\n      <th>education</th>\n      <th>Gender</th>\n      <th>dayofweek</th>\n      <th>weekend</th>\n    </tr>\n  </thead>\n  <tbody>\n    <tr>\n      <th>0</th>\n      <td>0</td>\n      <td>0</td>\n      <td>0</td>\n      <td>PAIDOFF</td>\n      <td>1000</td>\n      <td>30</td>\n      <td>2016-09-08</td>\n      <td>2016-10-07</td>\n      <td>45</td>\n      <td>High School or Below</td>\n      <td>male</td>\n      <td>3</td>\n      <td>0</td>\n    </tr>\n    <tr>\n      <th>1</th>\n      <td>1</td>\n      <td>2</td>\n      <td>2</td>\n      <td>PAIDOFF</td>\n      <td>1000</td>\n      <td>30</td>\n      <td>2016-09-08</td>\n      <td>2016-10-07</td>\n      <td>33</td>\n      <td>Bechalor</td>\n      <td>female</td>\n      <td>3</td>\n      <td>0</td>\n    </tr>\n    <tr>\n      <th>2</th>\n      <td>2</td>\n      <td>3</td>\n      <td>3</td>\n      <td>PAIDOFF</td>\n      <td>1000</td>\n      <td>15</td>\n      <td>2016-09-08</td>\n      <td>2016-09-22</td>\n      <td>27</td>\n      <td>college</td>\n      <td>male</td>\n      <td>3</td>\n      <td>0</td>\n    </tr>\n    <tr>\n      <th>3</th>\n      <td>3</td>\n      <td>4</td>\n      <td>4</td>\n      <td>PAIDOFF</td>\n      <td>1000</td>\n      <td>30</td>\n      <td>2016-09-09</td>\n      <td>2016-10-08</td>\n      <td>28</td>\n      <td>college</td>\n      <td>female</td>\n      <td>4</td>\n      <td>1</td>\n    </tr>\n    <tr>\n      <th>4</th>\n      <td>4</td>\n      <td>6</td>\n      <td>6</td>\n      <td>PAIDOFF</td>\n      <td>1000</td>\n      <td>30</td>\n      <td>2016-09-09</td>\n      <td>2016-10-08</td>\n      <td>29</td>\n      <td>college</td>\n      <td>male</td>\n      <td>4</td>\n      <td>1</td>\n    </tr>\n  </tbody>\n</table>\n</div>"
                    },
                    "metadata": {}
                }
            ]
        },
        {
            "metadata": {
                "button": false,
                "new_sheet": false,
                "run_control": {
                    "read_only": false
                }
            },
            "cell_type": "markdown",
            "source": "## Convert Categorical features to numerical values"
        },
        {
            "metadata": {
                "button": false,
                "new_sheet": false,
                "run_control": {
                    "read_only": false
                }
            },
            "cell_type": "markdown",
            "source": "Lets look at gender:"
        },
        {
            "metadata": {
                "button": false,
                "new_sheet": false,
                "run_control": {
                    "read_only": false
                }
            },
            "cell_type": "code",
            "source": "df.groupby(['Gender'])['loan_status'].value_counts(normalize=True)",
            "execution_count": 12,
            "outputs": [
                {
                    "output_type": "execute_result",
                    "execution_count": 12,
                    "data": {
                        "text/plain": "Gender  loan_status\nfemale  PAIDOFF        0.865385\n        COLLECTION     0.134615\nmale    PAIDOFF        0.731293\n        COLLECTION     0.268707\nName: loan_status, dtype: float64"
                    },
                    "metadata": {}
                }
            ]
        },
        {
            "metadata": {
                "button": false,
                "new_sheet": false,
                "run_control": {
                    "read_only": false
                }
            },
            "cell_type": "markdown",
            "source": "86 % of female pay there loans while only 73 % of males pay there loan\n"
        },
        {
            "metadata": {
                "button": false,
                "new_sheet": false,
                "run_control": {
                    "read_only": false
                }
            },
            "cell_type": "markdown",
            "source": "Lets convert male to 0 and female to 1:\n"
        },
        {
            "metadata": {
                "button": false,
                "new_sheet": false,
                "run_control": {
                    "read_only": false
                }
            },
            "cell_type": "code",
            "source": "df['Gender'].replace(to_replace=['male','female'], value=[0,1],inplace=True)\ndf.head()",
            "execution_count": 13,
            "outputs": [
                {
                    "output_type": "execute_result",
                    "execution_count": 13,
                    "data": {
                        "text/plain": "   Unnamed: 0  Unnamed: 0.1  Unnamed: 0.1.1 loan_status  Principal  terms  \\\n0           0             0               0     PAIDOFF       1000     30   \n1           1             2               2     PAIDOFF       1000     30   \n2           2             3               3     PAIDOFF       1000     15   \n3           3             4               4     PAIDOFF       1000     30   \n4           4             6               6     PAIDOFF       1000     30   \n\n  effective_date   due_date  age             education  Gender  dayofweek  \\\n0     2016-09-08 2016-10-07   45  High School or Below       0          3   \n1     2016-09-08 2016-10-07   33              Bechalor       1          3   \n2     2016-09-08 2016-09-22   27               college       0          3   \n3     2016-09-09 2016-10-08   28               college       1          4   \n4     2016-09-09 2016-10-08   29               college       0          4   \n\n   weekend  \n0        0  \n1        0  \n2        0  \n3        1  \n4        1  ",
                        "text/html": "<div>\n<style scoped>\n    .dataframe tbody tr th:only-of-type {\n        vertical-align: middle;\n    }\n\n    .dataframe tbody tr th {\n        vertical-align: top;\n    }\n\n    .dataframe thead th {\n        text-align: right;\n    }\n</style>\n<table border=\"1\" class=\"dataframe\">\n  <thead>\n    <tr style=\"text-align: right;\">\n      <th></th>\n      <th>Unnamed: 0</th>\n      <th>Unnamed: 0.1</th>\n      <th>Unnamed: 0.1.1</th>\n      <th>loan_status</th>\n      <th>Principal</th>\n      <th>terms</th>\n      <th>effective_date</th>\n      <th>due_date</th>\n      <th>age</th>\n      <th>education</th>\n      <th>Gender</th>\n      <th>dayofweek</th>\n      <th>weekend</th>\n    </tr>\n  </thead>\n  <tbody>\n    <tr>\n      <th>0</th>\n      <td>0</td>\n      <td>0</td>\n      <td>0</td>\n      <td>PAIDOFF</td>\n      <td>1000</td>\n      <td>30</td>\n      <td>2016-09-08</td>\n      <td>2016-10-07</td>\n      <td>45</td>\n      <td>High School or Below</td>\n      <td>0</td>\n      <td>3</td>\n      <td>0</td>\n    </tr>\n    <tr>\n      <th>1</th>\n      <td>1</td>\n      <td>2</td>\n      <td>2</td>\n      <td>PAIDOFF</td>\n      <td>1000</td>\n      <td>30</td>\n      <td>2016-09-08</td>\n      <td>2016-10-07</td>\n      <td>33</td>\n      <td>Bechalor</td>\n      <td>1</td>\n      <td>3</td>\n      <td>0</td>\n    </tr>\n    <tr>\n      <th>2</th>\n      <td>2</td>\n      <td>3</td>\n      <td>3</td>\n      <td>PAIDOFF</td>\n      <td>1000</td>\n      <td>15</td>\n      <td>2016-09-08</td>\n      <td>2016-09-22</td>\n      <td>27</td>\n      <td>college</td>\n      <td>0</td>\n      <td>3</td>\n      <td>0</td>\n    </tr>\n    <tr>\n      <th>3</th>\n      <td>3</td>\n      <td>4</td>\n      <td>4</td>\n      <td>PAIDOFF</td>\n      <td>1000</td>\n      <td>30</td>\n      <td>2016-09-09</td>\n      <td>2016-10-08</td>\n      <td>28</td>\n      <td>college</td>\n      <td>1</td>\n      <td>4</td>\n      <td>1</td>\n    </tr>\n    <tr>\n      <th>4</th>\n      <td>4</td>\n      <td>6</td>\n      <td>6</td>\n      <td>PAIDOFF</td>\n      <td>1000</td>\n      <td>30</td>\n      <td>2016-09-09</td>\n      <td>2016-10-08</td>\n      <td>29</td>\n      <td>college</td>\n      <td>0</td>\n      <td>4</td>\n      <td>1</td>\n    </tr>\n  </tbody>\n</table>\n</div>"
                    },
                    "metadata": {}
                }
            ]
        },
        {
            "metadata": {
                "button": false,
                "new_sheet": false,
                "run_control": {
                    "read_only": false
                }
            },
            "cell_type": "markdown",
            "source": "## One Hot Encoding  \n#### How about education?"
        },
        {
            "metadata": {
                "button": false,
                "new_sheet": false,
                "run_control": {
                    "read_only": false
                }
            },
            "cell_type": "code",
            "source": "df.groupby(['education'])['loan_status'].value_counts(normalize=True)",
            "execution_count": 14,
            "outputs": [
                {
                    "output_type": "execute_result",
                    "execution_count": 14,
                    "data": {
                        "text/plain": "education             loan_status\nBechalor              PAIDOFF        0.750000\n                      COLLECTION     0.250000\nHigh School or Below  PAIDOFF        0.741722\n                      COLLECTION     0.258278\nMaster or Above       COLLECTION     0.500000\n                      PAIDOFF        0.500000\ncollege               PAIDOFF        0.765101\n                      COLLECTION     0.234899\nName: loan_status, dtype: float64"
                    },
                    "metadata": {}
                }
            ]
        },
        {
            "metadata": {
                "button": false,
                "new_sheet": false,
                "run_control": {
                    "read_only": false
                }
            },
            "cell_type": "markdown",
            "source": "#### Feature befor One Hot Encoding"
        },
        {
            "metadata": {
                "button": false,
                "new_sheet": false,
                "run_control": {
                    "read_only": false
                }
            },
            "cell_type": "code",
            "source": "df[['Principal','terms','age','Gender','education']].head()",
            "execution_count": 15,
            "outputs": [
                {
                    "output_type": "execute_result",
                    "execution_count": 15,
                    "data": {
                        "text/plain": "   Principal  terms  age  Gender             education\n0       1000     30   45       0  High School or Below\n1       1000     30   33       1              Bechalor\n2       1000     15   27       0               college\n3       1000     30   28       1               college\n4       1000     30   29       0               college",
                        "text/html": "<div>\n<style scoped>\n    .dataframe tbody tr th:only-of-type {\n        vertical-align: middle;\n    }\n\n    .dataframe tbody tr th {\n        vertical-align: top;\n    }\n\n    .dataframe thead th {\n        text-align: right;\n    }\n</style>\n<table border=\"1\" class=\"dataframe\">\n  <thead>\n    <tr style=\"text-align: right;\">\n      <th></th>\n      <th>Principal</th>\n      <th>terms</th>\n      <th>age</th>\n      <th>Gender</th>\n      <th>education</th>\n    </tr>\n  </thead>\n  <tbody>\n    <tr>\n      <th>0</th>\n      <td>1000</td>\n      <td>30</td>\n      <td>45</td>\n      <td>0</td>\n      <td>High School or Below</td>\n    </tr>\n    <tr>\n      <th>1</th>\n      <td>1000</td>\n      <td>30</td>\n      <td>33</td>\n      <td>1</td>\n      <td>Bechalor</td>\n    </tr>\n    <tr>\n      <th>2</th>\n      <td>1000</td>\n      <td>15</td>\n      <td>27</td>\n      <td>0</td>\n      <td>college</td>\n    </tr>\n    <tr>\n      <th>3</th>\n      <td>1000</td>\n      <td>30</td>\n      <td>28</td>\n      <td>1</td>\n      <td>college</td>\n    </tr>\n    <tr>\n      <th>4</th>\n      <td>1000</td>\n      <td>30</td>\n      <td>29</td>\n      <td>0</td>\n      <td>college</td>\n    </tr>\n  </tbody>\n</table>\n</div>"
                    },
                    "metadata": {}
                }
            ]
        },
        {
            "metadata": {
                "button": false,
                "new_sheet": false,
                "run_control": {
                    "read_only": false
                }
            },
            "cell_type": "markdown",
            "source": "#### Use one hot encoding technique to conver categorical varables to binary variables and append them to the feature Data Frame "
        },
        {
            "metadata": {
                "button": false,
                "new_sheet": false,
                "run_control": {
                    "read_only": false
                }
            },
            "cell_type": "code",
            "source": "Feature = df[['Principal','terms','age','Gender','weekend']]\nFeature = pd.concat([Feature,pd.get_dummies(df['education'])], axis=1)\nFeature.drop(['Master or Above'], axis = 1,inplace=True)\nFeature.head()\n",
            "execution_count": 16,
            "outputs": [
                {
                    "output_type": "execute_result",
                    "execution_count": 16,
                    "data": {
                        "text/plain": "   Principal  terms  age  Gender  weekend  Bechalor  High School or Below  \\\n0       1000     30   45       0        0         0                     1   \n1       1000     30   33       1        0         1                     0   \n2       1000     15   27       0        0         0                     0   \n3       1000     30   28       1        1         0                     0   \n4       1000     30   29       0        1         0                     0   \n\n   college  \n0        0  \n1        0  \n2        1  \n3        1  \n4        1  ",
                        "text/html": "<div>\n<style scoped>\n    .dataframe tbody tr th:only-of-type {\n        vertical-align: middle;\n    }\n\n    .dataframe tbody tr th {\n        vertical-align: top;\n    }\n\n    .dataframe thead th {\n        text-align: right;\n    }\n</style>\n<table border=\"1\" class=\"dataframe\">\n  <thead>\n    <tr style=\"text-align: right;\">\n      <th></th>\n      <th>Principal</th>\n      <th>terms</th>\n      <th>age</th>\n      <th>Gender</th>\n      <th>weekend</th>\n      <th>Bechalor</th>\n      <th>High School or Below</th>\n      <th>college</th>\n    </tr>\n  </thead>\n  <tbody>\n    <tr>\n      <th>0</th>\n      <td>1000</td>\n      <td>30</td>\n      <td>45</td>\n      <td>0</td>\n      <td>0</td>\n      <td>0</td>\n      <td>1</td>\n      <td>0</td>\n    </tr>\n    <tr>\n      <th>1</th>\n      <td>1000</td>\n      <td>30</td>\n      <td>33</td>\n      <td>1</td>\n      <td>0</td>\n      <td>1</td>\n      <td>0</td>\n      <td>0</td>\n    </tr>\n    <tr>\n      <th>2</th>\n      <td>1000</td>\n      <td>15</td>\n      <td>27</td>\n      <td>0</td>\n      <td>0</td>\n      <td>0</td>\n      <td>0</td>\n      <td>1</td>\n    </tr>\n    <tr>\n      <th>3</th>\n      <td>1000</td>\n      <td>30</td>\n      <td>28</td>\n      <td>1</td>\n      <td>1</td>\n      <td>0</td>\n      <td>0</td>\n      <td>1</td>\n    </tr>\n    <tr>\n      <th>4</th>\n      <td>1000</td>\n      <td>30</td>\n      <td>29</td>\n      <td>0</td>\n      <td>1</td>\n      <td>0</td>\n      <td>0</td>\n      <td>1</td>\n    </tr>\n  </tbody>\n</table>\n</div>"
                    },
                    "metadata": {}
                }
            ]
        },
        {
            "metadata": {
                "button": false,
                "new_sheet": false,
                "run_control": {
                    "read_only": false
                }
            },
            "cell_type": "markdown",
            "source": "### Feature selection"
        },
        {
            "metadata": {
                "button": false,
                "new_sheet": false,
                "run_control": {
                    "read_only": false
                }
            },
            "cell_type": "markdown",
            "source": "Lets defind feature sets, X:"
        },
        {
            "metadata": {
                "button": false,
                "new_sheet": false,
                "run_control": {
                    "read_only": false
                }
            },
            "cell_type": "code",
            "source": "X = Feature\nX[0:5]",
            "execution_count": 17,
            "outputs": [
                {
                    "output_type": "execute_result",
                    "execution_count": 17,
                    "data": {
                        "text/plain": "   Principal  terms  age  Gender  weekend  Bechalor  High School or Below  \\\n0       1000     30   45       0        0         0                     1   \n1       1000     30   33       1        0         1                     0   \n2       1000     15   27       0        0         0                     0   \n3       1000     30   28       1        1         0                     0   \n4       1000     30   29       0        1         0                     0   \n\n   college  \n0        0  \n1        0  \n2        1  \n3        1  \n4        1  ",
                        "text/html": "<div>\n<style scoped>\n    .dataframe tbody tr th:only-of-type {\n        vertical-align: middle;\n    }\n\n    .dataframe tbody tr th {\n        vertical-align: top;\n    }\n\n    .dataframe thead th {\n        text-align: right;\n    }\n</style>\n<table border=\"1\" class=\"dataframe\">\n  <thead>\n    <tr style=\"text-align: right;\">\n      <th></th>\n      <th>Principal</th>\n      <th>terms</th>\n      <th>age</th>\n      <th>Gender</th>\n      <th>weekend</th>\n      <th>Bechalor</th>\n      <th>High School or Below</th>\n      <th>college</th>\n    </tr>\n  </thead>\n  <tbody>\n    <tr>\n      <th>0</th>\n      <td>1000</td>\n      <td>30</td>\n      <td>45</td>\n      <td>0</td>\n      <td>0</td>\n      <td>0</td>\n      <td>1</td>\n      <td>0</td>\n    </tr>\n    <tr>\n      <th>1</th>\n      <td>1000</td>\n      <td>30</td>\n      <td>33</td>\n      <td>1</td>\n      <td>0</td>\n      <td>1</td>\n      <td>0</td>\n      <td>0</td>\n    </tr>\n    <tr>\n      <th>2</th>\n      <td>1000</td>\n      <td>15</td>\n      <td>27</td>\n      <td>0</td>\n      <td>0</td>\n      <td>0</td>\n      <td>0</td>\n      <td>1</td>\n    </tr>\n    <tr>\n      <th>3</th>\n      <td>1000</td>\n      <td>30</td>\n      <td>28</td>\n      <td>1</td>\n      <td>1</td>\n      <td>0</td>\n      <td>0</td>\n      <td>1</td>\n    </tr>\n    <tr>\n      <th>4</th>\n      <td>1000</td>\n      <td>30</td>\n      <td>29</td>\n      <td>0</td>\n      <td>1</td>\n      <td>0</td>\n      <td>0</td>\n      <td>1</td>\n    </tr>\n  </tbody>\n</table>\n</div>"
                    },
                    "metadata": {}
                }
            ]
        },
        {
            "metadata": {
                "button": false,
                "new_sheet": false,
                "run_control": {
                    "read_only": false
                }
            },
            "cell_type": "markdown",
            "source": "What are our lables?"
        },
        {
            "metadata": {
                "button": false,
                "new_sheet": false,
                "run_control": {
                    "read_only": false
                }
            },
            "cell_type": "code",
            "source": "y = df['loan_status'].values\ny[0:5]",
            "execution_count": 18,
            "outputs": [
                {
                    "output_type": "execute_result",
                    "execution_count": 18,
                    "data": {
                        "text/plain": "array(['PAIDOFF', 'PAIDOFF', 'PAIDOFF', 'PAIDOFF', 'PAIDOFF'],\n      dtype=object)"
                    },
                    "metadata": {}
                }
            ]
        },
        {
            "metadata": {
                "button": false,
                "new_sheet": false,
                "run_control": {
                    "read_only": false
                }
            },
            "cell_type": "markdown",
            "source": "## Normalize Data "
        },
        {
            "metadata": {
                "button": false,
                "new_sheet": false,
                "run_control": {
                    "read_only": false
                }
            },
            "cell_type": "markdown",
            "source": "Data Standardization give data zero mean and unit variance (technically should be done after train test split )"
        },
        {
            "metadata": {
                "button": false,
                "new_sheet": false,
                "run_control": {
                    "read_only": false
                }
            },
            "cell_type": "code",
            "source": "X= preprocessing.StandardScaler().fit(X).transform(X)\nX[0:5]",
            "execution_count": 19,
            "outputs": [
                {
                    "output_type": "stream",
                    "text": "/opt/conda/envs/Python36/lib/python3.6/site-packages/sklearn/preprocessing/data.py:645: DataConversionWarning: Data with input dtype uint8, int64 were all converted to float64 by StandardScaler.\n  return self.partial_fit(X, y)\n/opt/conda/envs/Python36/lib/python3.6/site-packages/ipykernel/__main__.py:1: DataConversionWarning: Data with input dtype uint8, int64 were all converted to float64 by StandardScaler.\n  if __name__ == '__main__':\n",
                    "name": "stderr"
                },
                {
                    "output_type": "execute_result",
                    "execution_count": 19,
                    "data": {
                        "text/plain": "array([[ 0.51578458,  0.92071769,  2.33152555, -0.42056004, -1.20577805,\n        -0.38170062,  1.13639374, -0.86968108],\n       [ 0.51578458,  0.92071769,  0.34170148,  2.37778177, -1.20577805,\n         2.61985426, -0.87997669, -0.86968108],\n       [ 0.51578458, -0.95911111, -0.65321055, -0.42056004, -1.20577805,\n        -0.38170062, -0.87997669,  1.14984679],\n       [ 0.51578458,  0.92071769, -0.48739188,  2.37778177,  0.82934003,\n        -0.38170062, -0.87997669,  1.14984679],\n       [ 0.51578458,  0.92071769, -0.3215732 , -0.42056004,  0.82934003,\n        -0.38170062, -0.87997669,  1.14984679]])"
                    },
                    "metadata": {}
                }
            ]
        },
        {
            "metadata": {
                "button": false,
                "new_sheet": false,
                "run_control": {
                    "read_only": false
                }
            },
            "cell_type": "markdown",
            "source": "# Classification "
        },
        {
            "metadata": {
                "button": false,
                "new_sheet": false,
                "run_control": {
                    "read_only": false
                }
            },
            "cell_type": "markdown",
            "source": "Now, it is your turn, use the training set to build an accurate model. Then use the test set to report the accuracy of the model\nYou should use the following algorithm:\n- K Nearest Neighbor(KNN)\n- Decision Tree\n- Support Vector Machine\n- Logistic Regression\n\n\n\n__ Notice:__ \n- You can go above and change the pre-processing, feature selection, feature-extraction, and so on, to make a better model.\n- You should use either scikit-learn, Scipy or Numpy libraries for developing the classification algorithms.\n- You should include the code of the algorithm in the following cells."
        },
        {
            "metadata": {},
            "cell_type": "markdown",
            "source": "<h1 align=\"center\"><font size=\"5\">Model Building</font></h1>"
        },
        {
            "metadata": {},
            "cell_type": "markdown",
            "source": "<h1 align=\"center\"><font size=\"3\">The Below Model Building Excercises are done Using the below Algorithms</font></h1>\n\n\n|    Algorithm   |                               Description                                             |\n|----------------|---------------------------------------------------------------------------------------|\n| KNN            |    1. Model 2. Finding Best K 3. Model Evaluation With Jaccard and F1-Score           |\n| Principal      | Basic principal loan amount at the                                                    |\n| Terms          | Origination terms which can be weekly (7 days), biweekly, and monthly payoff schedule |\n| Effective_date | When the loan got originated and took effects                                         |\n| Due_date       | Since it\u2019s one-time payoff schedule, each loan has one single due date                |\n| Age            | Age of applicant                                                                      |\n| Education      | Education of applicant                                                                |\n| Gender         | The gender of applicant     "
        },
        {
            "metadata": {},
            "cell_type": "markdown",
            "source": "# 1. K Nearest Neighbor(KNN)\n1.1 Model Building\n\n1.2 Finding Best K\n\n1.3 Final KNN Model For Testing\n\n1.4 Prediction with Final KNN\n\n1.5 Model Accuracy Evaluation with a) Jaccard b) F1-Score"
        },
        {
            "metadata": {},
            "cell_type": "markdown",
            "source": "### 1.1 Model Building"
        },
        {
            "metadata": {},
            "cell_type": "code",
            "source": "from sklearn.model_selection import train_test_split\nX_train, X_test, y_train, y_test = train_test_split( X, y, test_size=0.2, random_state=4)\nprint ('Train set:', X_train.shape,  y_train.shape)\nprint ('Test set:', X_test.shape,  y_test.shape)",
            "execution_count": 20,
            "outputs": [
                {
                    "output_type": "stream",
                    "text": "Train set: (276, 8) (276,)\nTest set: (70, 8) (70,)\n",
                    "name": "stdout"
                }
            ]
        },
        {
            "metadata": {},
            "cell_type": "code",
            "source": "from sklearn.neighbors import KNeighborsClassifier\nfrom sklearn import metrics\n\nK = 50\nmean_acc = np.zeros((K-1))\nstd_acc = np.zeros((K-1))\nConfustionMx = [];\nfor n in range(1,K):\n    \n    #Train Model and Predict  \n    neigh = KNeighborsClassifier(n_neighbors = n, n_jobs=-1, weights='uniform').fit(X_train,y_train)\n    yhat=neigh.predict(X_test)\n    mean_acc[n-1] = metrics.accuracy_score(y_test, yhat)\n\n    \n    std_acc[n-1]=np.std(yhat==y_test)/np.sqrt(yhat.shape[0])\n\nmean_acc",
            "execution_count": 21,
            "outputs": [
                {
                    "output_type": "execute_result",
                    "execution_count": 21,
                    "data": {
                        "text/plain": "array([0.67142857, 0.65714286, 0.71428571, 0.68571429, 0.75714286,\n       0.71428571, 0.78571429, 0.75714286, 0.75714286, 0.67142857,\n       0.7       , 0.72857143, 0.7       , 0.7       , 0.68571429,\n       0.72857143, 0.72857143, 0.72857143, 0.7       , 0.68571429,\n       0.71428571, 0.68571429, 0.7       , 0.7       , 0.72857143,\n       0.71428571, 0.77142857, 0.68571429, 0.78571429, 0.75714286,\n       0.78571429, 0.74285714, 0.78571429, 0.78571429, 0.78571429,\n       0.75714286, 0.78571429, 0.78571429, 0.78571429, 0.78571429,\n       0.77142857, 0.77142857, 0.77142857, 0.78571429, 0.77142857,\n       0.78571429, 0.78571429, 0.78571429, 0.78571429])"
                    },
                    "metadata": {}
                }
            ]
        },
        {
            "metadata": {},
            "cell_type": "markdown",
            "source": "## 1.2 Establishing Best K "
        },
        {
            "metadata": {},
            "cell_type": "code",
            "source": "plt.plot(range(1,K),mean_acc,'g')\nplt.fill_between(range(1,K),mean_acc - 1 * std_acc,mean_acc + 1 * std_acc, alpha=0.10)\nplt.legend(('Accuracy ', '+/- 3xstd'))\nplt.ylabel('Accuracy ')\nplt.xlabel('Number of Neighbors (K)')\nplt.tight_layout()\nplt.show()",
            "execution_count": 22,
            "outputs": [
                {
                    "output_type": "display_data",
                    "data": {
                        "text/plain": "<Figure size 432x288 with 1 Axes>",
                        "image/png": "[encoded data removed]"
                    },
                    "metadata": {
                        "needs_background": "light"
                    }
                }
            ]
        },
        {
            "metadata": {},
            "cell_type": "markdown",
            "source": "#### The best accuracy was with 0.785714285714 with k= 7"
        },
        {
            "metadata": {},
            "cell_type": "markdown",
            "source": "### 1.3 Final KNN model for testing"
        },
        {
            "metadata": {},
            "cell_type": "code",
            "source": "final_KNN = KNeighborsClassifier(n_neighbors = 7).fit(X_train,y_train)",
            "execution_count": 23,
            "outputs": []
        },
        {
            "metadata": {},
            "cell_type": "code",
            "source": "final_KNN",
            "execution_count": 24,
            "outputs": [
                {
                    "output_type": "execute_result",
                    "execution_count": 24,
                    "data": {
                        "text/plain": "KNeighborsClassifier(algorithm='auto', leaf_size=30, metric='minkowski',\n           metric_params=None, n_jobs=None, n_neighbors=7, p=2,\n           weights='uniform')"
                    },
                    "metadata": {}
                }
            ]
        },
        {
            "metadata": {},
            "cell_type": "code",
            "source": "mean_acc[n-1] = metrics.accuracy_score(y_test, yhat)",
            "execution_count": 25,
            "outputs": []
        },
        {
            "metadata": {},
            "cell_type": "code",
            "source": "mean_acc",
            "execution_count": 26,
            "outputs": [
                {
                    "output_type": "execute_result",
                    "execution_count": 26,
                    "data": {
                        "text/plain": "array([0.67142857, 0.65714286, 0.71428571, 0.68571429, 0.75714286,\n       0.71428571, 0.78571429, 0.75714286, 0.75714286, 0.67142857,\n       0.7       , 0.72857143, 0.7       , 0.7       , 0.68571429,\n       0.72857143, 0.72857143, 0.72857143, 0.7       , 0.68571429,\n       0.71428571, 0.68571429, 0.7       , 0.7       , 0.72857143,\n       0.71428571, 0.77142857, 0.68571429, 0.78571429, 0.75714286,\n       0.78571429, 0.74285714, 0.78571429, 0.78571429, 0.78571429,\n       0.75714286, 0.78571429, 0.78571429, 0.78571429, 0.78571429,\n       0.77142857, 0.77142857, 0.77142857, 0.78571429, 0.77142857,\n       0.78571429, 0.78571429, 0.78571429, 0.78571429])"
                    },
                    "metadata": {}
                }
            ]
        },
        {
            "metadata": {},
            "cell_type": "markdown",
            "source": "### 1.4 KNN Prediction With Final K Value"
        },
        {
            "metadata": {},
            "cell_type": "code",
            "source": "from sklearn.metrics import jaccard_similarity_score\nfrom sklearn.metrics import f1_score\nfrom sklearn.metrics import log_loss",
            "execution_count": 27,
            "outputs": []
        },
        {
            "metadata": {},
            "cell_type": "code",
            "source": "!wget -O loan_test.csv https://s3-api.us-geo.objectstorage.softlayer.net/cf-courses-data/CognitiveClass/ML0101ENv3/labs/loan_test.csv",
            "execution_count": 28,
            "outputs": [
                {
                    "output_type": "stream",
                    "text": "--2020-06-12 08:59:35--  https://s3-api.us-geo.objectstorage.softlayer.net/cf-courses-data/CognitiveClass/ML0101ENv3/labs/loan_test.csv\nResolving s3-api.us-geo.objectstorage.softlayer.net (s3-api.us-geo.objectstorage.softlayer.net)... 67.228.254.196\nConnecting to s3-api.us-geo.objectstorage.softlayer.net (s3-api.us-geo.objectstorage.softlayer.net)|67.228.254.196|:443... connected.\nHTTP request sent, awaiting response... 200 OK\nLength: 3642 (3.6K) [text/csv]\nSaving to: \u2018loan_test.csv\u2019\n\n100%[======================================>] 3,642       --.-K/s   in 0s      \n\n2020-06-12 08:59:35 (335 MB/s) - \u2018loan_test.csv\u2019 saved [3642/3642]\n\n",
                    "name": "stdout"
                }
            ]
        },
        {
            "metadata": {},
            "cell_type": "code",
            "source": "test_df = pd.read_csv('loan_test.csv')",
            "execution_count": 29,
            "outputs": []
        },
        {
            "metadata": {},
            "cell_type": "code",
            "source": "y_true = df['loan_status'].values\ntest_df['due_date'] = pd.to_datetime(df['due_date'])\ntest_df['effective_date'] = pd.to_datetime(df['effective_date'])\ntest_df['dayofweek'] = df['effective_date'].dt.dayofweek\ntest_df['weekend'] = df['dayofweek'].apply(lambda x: 1 if (x>3)  else 0)\ntest_df['Gender'].replace(to_replace=['male','female'], value=[0,1],inplace=True)\nFeature = df[['Principal','terms','age','Gender','weekend']]\nFeature = pd.concat([Feature,pd.get_dummies(df['education'])], axis=1)\nFeature.drop(['Master or Above'], axis = 1,inplace=True)\nX_true = Feature\nX_true = preprocessing.StandardScaler().fit(X_true).transform(X_true)",
            "execution_count": 30,
            "outputs": [
                {
                    "output_type": "stream",
                    "text": "/opt/conda/envs/Python36/lib/python3.6/site-packages/sklearn/preprocessing/data.py:645: DataConversionWarning: Data with input dtype uint8, int64 were all converted to float64 by StandardScaler.\n  return self.partial_fit(X, y)\n/opt/conda/envs/Python36/lib/python3.6/site-packages/ipykernel/__main__.py:11: DataConversionWarning: Data with input dtype uint8, int64 were all converted to float64 by StandardScaler.\n",
                    "name": "stderr"
                }
            ]
        },
        {
            "metadata": {
                "scrolled": true
            },
            "cell_type": "code",
            "source": "y_pred = final_KNN.predict(X_true)",
            "execution_count": 31,
            "outputs": []
        },
        {
            "metadata": {},
            "cell_type": "markdown",
            "source": "### 1.5 KNN Model Evaluation - Jaccard & F-1 Score"
        },
        {
            "metadata": {},
            "cell_type": "code",
            "source": "knn_jacard = jaccard_similarity_score(y_pred, y_true)\nprint(\"The KNN jacard Accuracy - \",knn_jacard*100,'%')",
            "execution_count": 32,
            "outputs": [
                {
                    "output_type": "stream",
                    "text": "The KNN jacard Accuracy -  80.34682080924856 %\n",
                    "name": "stdout"
                }
            ]
        },
        {
            "metadata": {},
            "cell_type": "code",
            "source": "knn_f1 = f1_score(y_pred, y_true, average='weighted')\nprint(\"The KNN jacard Accuracy - \",knn_f1*100,'%')",
            "execution_count": 33,
            "outputs": [
                {
                    "output_type": "stream",
                    "text": "The KNN jacard Accuracy -  81.1666125738799 %\n",
                    "name": "stdout"
                }
            ]
        },
        {
            "metadata": {},
            "cell_type": "markdown",
            "source": "# 2. Decision Tree\n\n2.1 Model Building\n\n2.2 Finding Best Best Depth\n\n2.3 Final Decision Tree Model For Testing\n\n2.4 Prediction with Final D.tree\n\n2.5 Model Accuracy Evaluation with a) Jaccard b) F1-Score"
        },
        {
            "metadata": {},
            "cell_type": "markdown",
            "source": "### 2.1 Model Building"
        },
        {
            "metadata": {},
            "cell_type": "code",
            "source": "from sklearn.tree import DecisionTreeClassifier\nK = 50\nmean_acc = np.zeros((K-1))\nstd_acc = np.zeros((K-1))\nConfustionMx = [];\nfor n in range(1,K):\n    \n    #Train Model and Predict  \n    dTree = DecisionTreeClassifier(criterion=\"entropy\", max_depth = n).fit(X_train,y_train)\n    yhat= dTree.predict(X_test)\n    mean_acc[n-1] = metrics.accuracy_score(y_test, yhat)\n\n    \n    std_acc[n-1]=np.std(yhat==y_test)/np.sqrt(yhat.shape[0])\n\nmean_acc",
            "execution_count": 34,
            "outputs": [
                {
                    "output_type": "execute_result",
                    "execution_count": 34,
                    "data": {
                        "text/plain": "array([0.78571429, 0.78571429, 0.61428571, 0.61428571, 0.64285714,\n       0.77142857, 0.75714286, 0.75714286, 0.65714286, 0.7       ,\n       0.68571429, 0.71428571, 0.71428571, 0.72857143, 0.74285714,\n       0.7       , 0.7       , 0.7       , 0.7       , 0.7       ,\n       0.7       , 0.7       , 0.7       , 0.7       , 0.7       ,\n       0.7       , 0.7       , 0.7       , 0.68571429, 0.7       ,\n       0.7       , 0.68571429, 0.68571429, 0.7       , 0.7       ,\n       0.7       , 0.68571429, 0.7       , 0.7       , 0.7       ,\n       0.7       , 0.7       , 0.68571429, 0.68571429, 0.7       ,\n       0.68571429, 0.68571429, 0.7       , 0.7       ])"
                    },
                    "metadata": {}
                }
            ]
        },
        {
            "metadata": {},
            "cell_type": "markdown",
            "source": "### 2.2 Finding Best Depth Value"
        },
        {
            "metadata": {},
            "cell_type": "code",
            "source": "plt.plot(range(1,K),mean_acc,'g')\nplt.fill_between(range(1,K),mean_acc - 1 * std_acc,mean_acc + 1 * std_acc, alpha=0.10)\nplt.legend(('Accuracy ', '+/- 3xstd'))\nplt.ylabel('Accuracy ')\nplt.xlabel('Depth (K)')\nplt.tight_layout()\nplt.show()",
            "execution_count": 35,
            "outputs": [
                {
                    "output_type": "display_data",
                    "data": {
                        "text/plain": "<Figure size 432x288 with 1 Axes>",
                        "image/png": "[encoded data removed]"
                    },
                    "metadata": {
                        "needs_background": "light"
                    }
                }
            ]
        },
        {
            "metadata": {},
            "cell_type": "markdown",
            "source": "Max depth after 15 intuitively seems more stable, with not much compromise on the accuracy"
        },
        {
            "metadata": {},
            "cell_type": "markdown",
            "source": "### 2.3 Final Decision Tree model for testing"
        },
        {
            "metadata": {},
            "cell_type": "code",
            "source": "final_dTree = DecisionTreeClassifier(criterion=\"entropy\", max_depth = 15).fit(X_train,y_train)",
            "execution_count": 36,
            "outputs": []
        },
        {
            "metadata": {},
            "cell_type": "markdown",
            "source": "### 2.4 Prediction with Final D.tree"
        },
        {
            "metadata": {},
            "cell_type": "code",
            "source": "y_pred = final_dTree.predict(X_true)",
            "execution_count": 37,
            "outputs": []
        },
        {
            "metadata": {},
            "cell_type": "markdown",
            "source": "### 2.5 Model Accuracy Evaluation with a) Jaccard b) F1-Score"
        },
        {
            "metadata": {},
            "cell_type": "markdown",
            "source": "#### Jaccard Score"
        },
        {
            "metadata": {},
            "cell_type": "code",
            "source": "dtree_j = jaccard_similarity_score(y_pred, y_true)\nprint(\"The Decision Tree jacard Accuracy - \",dtree_j*100,'%')",
            "execution_count": 38,
            "outputs": [
                {
                    "output_type": "stream",
                    "text": "The Decision Tree jacard Accuracy -  86.70520231213872 %\n",
                    "name": "stdout"
                }
            ]
        },
        {
            "metadata": {},
            "cell_type": "markdown",
            "source": "#### F-1 Score"
        },
        {
            "metadata": {
                "scrolled": true
            },
            "cell_type": "code",
            "source": "dtree_f1 = f1_score(y_pred, y_true, average='weighted')\nprint(\"The Decision Tree F1 Accuracy - \",dtree_f1*100,'%')",
            "execution_count": 39,
            "outputs": [
                {
                    "output_type": "stream",
                    "text": "The Decision Tree F1 Accuracy -  86.6544610614772 %\n",
                    "name": "stdout"
                }
            ]
        },
        {
            "metadata": {},
            "cell_type": "markdown",
            "source": "# 3. Support Vector Machine\n3.1 Model Building\n\n3.2 SVN Prediction\n\n3.3 Model Accuracy Evaluation with a) Jaccard b) F1-Score"
        },
        {
            "metadata": {},
            "cell_type": "markdown",
            "source": "### 3.1 Model Building"
        },
        {
            "metadata": {},
            "cell_type": "code",
            "source": "from sklearn import svm\nfinal_SVM = svm.SVC(kernel='linear')\nfinal_SVM.fit(X_train, y_train)",
            "execution_count": 40,
            "outputs": [
                {
                    "output_type": "execute_result",
                    "execution_count": 40,
                    "data": {
                        "text/plain": "SVC(C=1.0, cache_size=200, class_weight=None, coef0=0.0,\n  decision_function_shape='ovr', degree=3, gamma='auto_deprecated',\n  kernel='linear', max_iter=-1, probability=False, random_state=None,\n  shrinking=True, tol=0.001, verbose=False)"
                    },
                    "metadata": {}
                }
            ]
        },
        {
            "metadata": {},
            "cell_type": "code",
            "source": "metrics.accuracy_score(final_SVM.predict(X_test), y_test)",
            "execution_count": 41,
            "outputs": [
                {
                    "output_type": "execute_result",
                    "execution_count": 41,
                    "data": {
                        "text/plain": "0.7857142857142857"
                    },
                    "metadata": {}
                }
            ]
        },
        {
            "metadata": {},
            "cell_type": "markdown",
            "source": "### 3.2 SVM prediction"
        },
        {
            "metadata": {},
            "cell_type": "code",
            "source": "y_pred = final_SVM.predict(X_true)",
            "execution_count": 43,
            "outputs": []
        },
        {
            "metadata": {},
            "cell_type": "markdown",
            "source": "### 3.3 Model Accuracy Evaluation with a) Jaccard b) F1-Score"
        },
        {
            "metadata": {},
            "cell_type": "markdown",
            "source": "### Jaccard Accuracy"
        },
        {
            "metadata": {},
            "cell_type": "code",
            "source": "svm_j = jaccard_similarity_score(y_pred, y_true)\nprint(\"The SVM jacard Accuracy - \",svm_j*100,'%')",
            "execution_count": 44,
            "outputs": [
                {
                    "output_type": "stream",
                    "text": "The SVM jacard Accuracy -  75.14450867052022 %\n",
                    "name": "stdout"
                }
            ]
        },
        {
            "metadata": {},
            "cell_type": "markdown",
            "source": "#### F-1 Score"
        },
        {
            "metadata": {},
            "cell_type": "code",
            "source": "svm_f1 = f1_score(y_pred, y_true, average='weighted')\nprint(\"The SVM F-1 Accuracy - \",svm_f1*100,'%')",
            "execution_count": 45,
            "outputs": [
                {
                    "output_type": "stream",
                    "text": "The SVM F-1 Accuracy -  85.8085808580858 %\n",
                    "name": "stdout"
                },
                {
                    "output_type": "stream",
                    "text": "/opt/conda/envs/Python36/lib/python3.6/site-packages/sklearn/metrics/classification.py:1145: UndefinedMetricWarning: F-score is ill-defined and being set to 0.0 in labels with no true samples.\n  'recall', 'true', average, warn_for)\n",
                    "name": "stderr"
                }
            ]
        },
        {
            "metadata": {},
            "cell_type": "markdown",
            "source": "# 4.Logistic Regression\n4.1 Model Building\n\n4.2 Finding Best C\n\n4.3 Final Log reg For Testing\n\n4.4 Prediction with Final Log Reg\n\n4.5 Model Accuracy Evaluation with a) Jaccard b) F1-Score\n\n4.6 Calculating Log Loss"
        },
        {
            "metadata": {},
            "cell_type": "markdown",
            "source": "### 4.1 Model Building"
        },
        {
            "metadata": {},
            "cell_type": "code",
            "source": "from sklearn.linear_model import LogisticRegression\n\nLR = LogisticRegression(C=0.03, solver='liblinear', max_iter=300).fit(X_train,y_train)",
            "execution_count": 47,
            "outputs": []
        },
        {
            "metadata": {},
            "cell_type": "code",
            "source": "metrics.accuracy_score(LR.predict(X_test), y_test)",
            "execution_count": 48,
            "outputs": [
                {
                    "output_type": "execute_result",
                    "execution_count": 48,
                    "data": {
                        "text/plain": "0.7285714285714285"
                    },
                    "metadata": {}
                }
            ]
        },
        {
            "metadata": {
                "collapsed": true
            },
            "cell_type": "code",
            "source": "\nK = 1000\nmean_acc = np.zeros((K-1))\nstd_acc = np.zeros((K-1))\nConfustionMx = [];\ni = 1\nfor n in np.arange(0.001,1,0.001 ):\n    \n    #Train Model and Predict  \n    LR = LogisticRegression(C=n, solver='liblinear', max_iter=200).fit(X_train,y_train)\n    yhat=LR.predict(X_test)\n    mean_acc[i-1] = metrics.accuracy_score(y_test, yhat)\n\n    \n    std_acc[i-1]=np.std(yhat==y_test)/np.sqrt(yhat.shape[0])\n    i = i +1\nmean_acc",
            "execution_count": 49,
            "outputs": [
                {
                    "output_type": "execute_result",
                    "execution_count": 49,
                    "data": {
                        "text/plain": "array([0.67142857, 0.67142857, 0.68571429, 0.68571429, 0.68571429,\n       0.68571429, 0.68571429, 0.68571429, 0.68571429, 0.68571429,\n       0.68571429, 0.68571429, 0.71428571, 0.71428571, 0.71428571,\n       0.71428571, 0.71428571, 0.71428571, 0.71428571, 0.72857143,\n       0.72857143, 0.72857143, 0.72857143, 0.72857143, 0.72857143,\n       0.72857143, 0.72857143, 0.72857143, 0.72857143, 0.72857143,\n       0.72857143, 0.72857143, 0.72857143, 0.72857143, 0.72857143,\n       0.72857143, 0.72857143, 0.72857143, 0.72857143, 0.72857143,\n       0.72857143, 0.72857143, 0.72857143, 0.72857143, 0.74285714,\n       0.74285714, 0.74285714, 0.74285714, 0.74285714, 0.74285714,\n       0.74285714, 0.74285714, 0.74285714, 0.74285714, 0.74285714,\n       0.74285714, 0.74285714, 0.74285714, 0.74285714, 0.74285714,\n       0.74285714, 0.74285714, 0.74285714, 0.74285714, 0.74285714,\n       0.74285714, 0.74285714, 0.74285714, 0.74285714, 0.74285714,\n       0.74285714, 0.74285714, 0.74285714, 0.74285714, 0.74285714,\n       0.74285714, 0.74285714, 0.74285714, 0.74285714, 0.74285714,\n       0.74285714, 0.74285714, 0.74285714, 0.74285714, 0.74285714,\n       0.74285714, 0.74285714, 0.74285714, 0.74285714, 0.74285714,\n       0.74285714, 0.74285714, 0.74285714, 0.74285714, 0.74285714,\n       0.74285714, 0.74285714, 0.74285714, 0.74285714, 0.74285714,\n       0.74285714, 0.74285714, 0.74285714, 0.74285714, 0.74285714,\n       0.74285714, 0.74285714, 0.74285714, 0.74285714, 0.74285714,\n       0.74285714, 0.74285714, 0.74285714, 0.74285714, 0.74285714,\n       0.74285714, 0.74285714, 0.74285714, 0.74285714, 0.74285714,\n       0.74285714, 0.74285714, 0.74285714, 0.74285714, 0.74285714,\n       0.74285714, 0.74285714, 0.74285714, 0.74285714, 0.74285714,\n       0.74285714, 0.74285714, 0.74285714, 0.74285714, 0.74285714,\n       0.74285714, 0.74285714, 0.74285714, 0.74285714, 0.74285714,\n       0.74285714, 0.74285714, 0.74285714, 0.74285714, 0.74285714,\n       0.74285714, 0.74285714, 0.74285714, 0.74285714, 0.74285714,\n       0.74285714, 0.74285714, 0.74285714, 0.74285714, 0.74285714,\n       0.74285714, 0.74285714, 0.74285714, 0.74285714, 0.74285714,\n       0.74285714, 0.74285714, 0.74285714, 0.74285714, 0.74285714,\n       0.74285714, 0.74285714, 0.74285714, 0.74285714, 0.74285714,\n       0.74285714, 0.74285714, 0.74285714, 0.74285714, 0.74285714,\n       0.74285714, 0.74285714, 0.74285714, 0.74285714, 0.74285714,\n       0.74285714, 0.74285714, 0.74285714, 0.74285714, 0.74285714,\n       0.74285714, 0.74285714, 0.74285714, 0.74285714, 0.74285714,\n       0.74285714, 0.74285714, 0.72857143, 0.72857143, 0.72857143,\n       0.72857143, 0.72857143, 0.72857143, 0.72857143, 0.72857143,\n       0.72857143, 0.72857143, 0.72857143, 0.72857143, 0.72857143,\n       0.72857143, 0.72857143, 0.72857143, 0.72857143, 0.72857143,\n       0.72857143, 0.72857143, 0.72857143, 0.72857143, 0.72857143,\n       0.72857143, 0.72857143, 0.72857143, 0.72857143, 0.72857143,\n       0.72857143, 0.72857143, 0.72857143, 0.72857143, 0.72857143,\n       0.72857143, 0.72857143, 0.72857143, 0.72857143, 0.72857143,\n       0.72857143, 0.72857143, 0.72857143, 0.72857143, 0.72857143,\n       0.72857143, 0.72857143, 0.72857143, 0.72857143, 0.72857143,\n       0.72857143, 0.72857143, 0.72857143, 0.72857143, 0.72857143,\n       0.72857143, 0.72857143, 0.72857143, 0.72857143, 0.72857143,\n       0.72857143, 0.72857143, 0.72857143, 0.72857143, 0.72857143,\n       0.72857143, 0.72857143, 0.72857143, 0.72857143, 0.72857143,\n       0.72857143, 0.72857143, 0.72857143, 0.72857143, 0.72857143,\n       0.72857143, 0.72857143, 0.72857143, 0.72857143, 0.72857143,\n       0.72857143, 0.72857143, 0.72857143, 0.72857143, 0.72857143,\n       0.72857143, 0.72857143, 0.72857143, 0.72857143, 0.72857143,\n       0.72857143, 0.72857143, 0.72857143, 0.72857143, 0.72857143,\n       0.72857143, 0.72857143, 0.72857143, 0.72857143, 0.72857143,\n       0.72857143, 0.72857143, 0.72857143, 0.72857143, 0.72857143,\n       0.72857143, 0.72857143, 0.72857143, 0.72857143, 0.72857143,\n       0.72857143, 0.72857143, 0.72857143, 0.72857143, 0.72857143,\n       0.72857143, 0.72857143, 0.72857143, 0.72857143, 0.72857143,\n       0.72857143, 0.72857143, 0.72857143, 0.72857143, 0.72857143,\n       0.72857143, 0.72857143, 0.72857143, 0.72857143, 0.72857143,\n       0.72857143, 0.72857143, 0.72857143, 0.72857143, 0.72857143,\n       0.72857143, 0.72857143, 0.72857143, 0.72857143, 0.72857143,\n       0.72857143, 0.72857143, 0.72857143, 0.72857143, 0.72857143,\n       0.72857143, 0.72857143, 0.72857143, 0.72857143, 0.72857143,\n       0.72857143, 0.72857143, 0.72857143, 0.72857143, 0.72857143,\n       0.72857143, 0.72857143, 0.72857143, 0.72857143, 0.72857143,\n       0.72857143, 0.72857143, 0.72857143, 0.72857143, 0.72857143,\n       0.72857143, 0.72857143, 0.72857143, 0.72857143, 0.72857143,\n       0.72857143, 0.72857143, 0.72857143, 0.72857143, 0.72857143,\n       0.72857143, 0.72857143, 0.72857143, 0.72857143, 0.72857143,\n       0.72857143, 0.72857143, 0.72857143, 0.72857143, 0.72857143,\n       0.72857143, 0.72857143, 0.72857143, 0.72857143, 0.72857143,\n       0.72857143, 0.72857143, 0.72857143, 0.72857143, 0.72857143,\n       0.72857143, 0.72857143, 0.72857143, 0.72857143, 0.72857143,\n       0.72857143, 0.72857143, 0.72857143, 0.72857143, 0.72857143,\n       0.72857143, 0.72857143, 0.72857143, 0.72857143, 0.72857143,\n       0.72857143, 0.72857143, 0.72857143, 0.72857143, 0.72857143,\n       0.72857143, 0.72857143, 0.72857143, 0.72857143, 0.72857143,\n       0.72857143, 0.72857143, 0.72857143, 0.72857143, 0.72857143,\n       0.72857143, 0.72857143, 0.72857143, 0.72857143, 0.72857143,\n       0.72857143, 0.72857143, 0.72857143, 0.72857143, 0.72857143,\n       0.72857143, 0.72857143, 0.72857143, 0.72857143, 0.72857143,\n       0.72857143, 0.72857143, 0.72857143, 0.72857143, 0.72857143,\n       0.72857143, 0.72857143, 0.72857143, 0.72857143, 0.72857143,\n       0.72857143, 0.72857143, 0.72857143, 0.72857143, 0.72857143,\n       0.72857143, 0.72857143, 0.72857143, 0.72857143, 0.72857143,\n       0.72857143, 0.72857143, 0.72857143, 0.72857143, 0.72857143,\n       0.72857143, 0.72857143, 0.72857143, 0.72857143, 0.72857143,\n       0.72857143, 0.72857143, 0.72857143, 0.72857143, 0.72857143,\n       0.72857143, 0.72857143, 0.72857143, 0.72857143, 0.72857143,\n       0.72857143, 0.72857143, 0.72857143, 0.72857143, 0.72857143,\n       0.72857143, 0.72857143, 0.72857143, 0.72857143, 0.72857143,\n       0.72857143, 0.72857143, 0.72857143, 0.72857143, 0.72857143,\n       0.72857143, 0.72857143, 0.72857143, 0.72857143, 0.72857143,\n       0.72857143, 0.72857143, 0.72857143, 0.72857143, 0.72857143,\n       0.72857143, 0.72857143, 0.72857143, 0.72857143, 0.72857143,\n       0.72857143, 0.72857143, 0.72857143, 0.72857143, 0.72857143,\n       0.72857143, 0.72857143, 0.72857143, 0.72857143, 0.72857143,\n       0.72857143, 0.72857143, 0.72857143, 0.72857143, 0.72857143,\n       0.72857143, 0.72857143, 0.72857143, 0.72857143, 0.72857143,\n       0.72857143, 0.72857143, 0.72857143, 0.72857143, 0.72857143,\n       0.72857143, 0.72857143, 0.72857143, 0.72857143, 0.72857143,\n       0.72857143, 0.72857143, 0.72857143, 0.72857143, 0.72857143,\n       0.72857143, 0.72857143, 0.72857143, 0.72857143, 0.72857143,\n       0.72857143, 0.72857143, 0.72857143, 0.72857143, 0.72857143,\n       0.72857143, 0.72857143, 0.72857143, 0.72857143, 0.72857143,\n       0.72857143, 0.72857143, 0.72857143, 0.72857143, 0.72857143,\n       0.72857143, 0.72857143, 0.72857143, 0.72857143, 0.72857143,\n       0.72857143, 0.72857143, 0.72857143, 0.72857143, 0.72857143,\n       0.72857143, 0.72857143, 0.72857143, 0.72857143, 0.72857143,\n       0.72857143, 0.72857143, 0.72857143, 0.72857143, 0.72857143,\n       0.72857143, 0.72857143, 0.72857143, 0.72857143, 0.72857143,\n       0.72857143, 0.72857143, 0.72857143, 0.72857143, 0.72857143,\n       0.72857143, 0.72857143, 0.72857143, 0.72857143, 0.72857143,\n       0.72857143, 0.72857143, 0.72857143, 0.72857143, 0.72857143,\n       0.72857143, 0.72857143, 0.72857143, 0.72857143, 0.72857143,\n       0.72857143, 0.72857143, 0.72857143, 0.72857143, 0.72857143,\n       0.72857143, 0.72857143, 0.72857143, 0.72857143, 0.72857143,\n       0.72857143, 0.72857143, 0.72857143, 0.72857143, 0.72857143,\n       0.72857143, 0.72857143, 0.72857143, 0.72857143, 0.72857143,\n       0.72857143, 0.72857143, 0.72857143, 0.72857143, 0.72857143,\n       0.72857143, 0.72857143, 0.72857143, 0.72857143, 0.72857143,\n       0.72857143, 0.72857143, 0.72857143, 0.72857143, 0.72857143,\n       0.72857143, 0.72857143, 0.72857143, 0.72857143, 0.72857143,\n       0.72857143, 0.72857143, 0.72857143, 0.72857143, 0.72857143,\n       0.72857143, 0.72857143, 0.72857143, 0.72857143, 0.72857143,\n       0.72857143, 0.72857143, 0.72857143, 0.72857143, 0.72857143,\n       0.72857143, 0.72857143, 0.72857143, 0.72857143, 0.72857143,\n       0.72857143, 0.72857143, 0.72857143, 0.72857143, 0.72857143,\n       0.72857143, 0.72857143, 0.72857143, 0.72857143, 0.72857143,\n       0.72857143, 0.72857143, 0.72857143, 0.72857143, 0.72857143,\n       0.72857143, 0.72857143, 0.72857143, 0.72857143, 0.72857143,\n       0.72857143, 0.72857143, 0.72857143, 0.72857143, 0.72857143,\n       0.72857143, 0.72857143, 0.72857143, 0.72857143, 0.72857143,\n       0.72857143, 0.72857143, 0.72857143, 0.72857143, 0.72857143,\n       0.72857143, 0.72857143, 0.72857143, 0.72857143, 0.72857143,\n       0.72857143, 0.72857143, 0.72857143, 0.72857143, 0.72857143,\n       0.72857143, 0.72857143, 0.72857143, 0.72857143, 0.72857143,\n       0.72857143, 0.72857143, 0.72857143, 0.72857143, 0.72857143,\n       0.72857143, 0.72857143, 0.72857143, 0.72857143, 0.72857143,\n       0.72857143, 0.72857143, 0.72857143, 0.72857143, 0.72857143,\n       0.72857143, 0.72857143, 0.72857143, 0.72857143, 0.72857143,\n       0.72857143, 0.72857143, 0.72857143, 0.72857143, 0.72857143,\n       0.72857143, 0.72857143, 0.72857143, 0.72857143, 0.72857143,\n       0.72857143, 0.72857143, 0.72857143, 0.72857143, 0.72857143,\n       0.72857143, 0.71428571, 0.71428571, 0.71428571, 0.71428571,\n       0.71428571, 0.71428571, 0.71428571, 0.71428571, 0.71428571,\n       0.71428571, 0.71428571, 0.71428571, 0.71428571, 0.71428571,\n       0.71428571, 0.71428571, 0.71428571, 0.71428571, 0.71428571,\n       0.71428571, 0.71428571, 0.71428571, 0.71428571, 0.71428571,\n       0.71428571, 0.71428571, 0.71428571, 0.71428571, 0.71428571,\n       0.71428571, 0.71428571, 0.71428571, 0.71428571, 0.71428571,\n       0.71428571, 0.71428571, 0.71428571, 0.71428571, 0.71428571,\n       0.71428571, 0.71428571, 0.71428571, 0.71428571, 0.71428571,\n       0.71428571, 0.71428571, 0.71428571, 0.71428571, 0.71428571,\n       0.71428571, 0.71428571, 0.71428571, 0.71428571, 0.71428571,\n       0.71428571, 0.71428571, 0.71428571, 0.71428571, 0.71428571,\n       0.71428571, 0.71428571, 0.71428571, 0.71428571, 0.71428571,\n       0.71428571, 0.71428571, 0.71428571, 0.71428571, 0.71428571,\n       0.71428571, 0.71428571, 0.71428571, 0.71428571, 0.71428571,\n       0.71428571, 0.71428571, 0.71428571, 0.71428571, 0.71428571,\n       0.71428571, 0.71428571, 0.71428571, 0.71428571, 0.71428571,\n       0.71428571, 0.71428571, 0.71428571, 0.71428571, 0.71428571,\n       0.71428571, 0.71428571, 0.71428571, 0.71428571, 0.71428571,\n       0.71428571, 0.71428571, 0.71428571, 0.71428571, 0.71428571,\n       0.71428571, 0.71428571, 0.71428571, 0.71428571, 0.71428571,\n       0.71428571, 0.71428571, 0.71428571, 0.71428571, 0.71428571,\n       0.71428571, 0.71428571, 0.71428571, 0.71428571, 0.71428571,\n       0.71428571, 0.71428571, 0.71428571, 0.71428571, 0.71428571,\n       0.71428571, 0.71428571, 0.71428571, 0.71428571, 0.71428571,\n       0.71428571, 0.71428571, 0.71428571, 0.71428571, 0.71428571,\n       0.71428571, 0.71428571, 0.71428571, 0.71428571, 0.71428571,\n       0.71428571, 0.71428571, 0.71428571, 0.71428571, 0.71428571,\n       0.71428571, 0.71428571, 0.71428571, 0.71428571, 0.71428571,\n       0.71428571, 0.71428571, 0.71428571, 0.71428571, 0.71428571,\n       0.71428571, 0.71428571, 0.71428571, 0.71428571, 0.71428571,\n       0.71428571, 0.71428571, 0.71428571, 0.71428571, 0.71428571,\n       0.71428571, 0.71428571, 0.71428571, 0.71428571, 0.71428571,\n       0.71428571, 0.71428571, 0.71428571, 0.71428571, 0.71428571,\n       0.71428571, 0.71428571, 0.71428571, 0.71428571, 0.71428571,\n       0.71428571, 0.71428571, 0.71428571, 0.71428571, 0.71428571,\n       0.71428571, 0.71428571, 0.71428571, 0.71428571, 0.71428571,\n       0.71428571, 0.71428571, 0.71428571, 0.71428571, 0.71428571,\n       0.71428571, 0.71428571, 0.71428571, 0.71428571, 0.71428571,\n       0.71428571, 0.71428571, 0.71428571, 0.71428571, 0.71428571,\n       0.71428571, 0.71428571, 0.71428571, 0.71428571, 0.71428571,\n       0.71428571, 0.71428571, 0.71428571, 0.71428571, 0.71428571,\n       0.71428571, 0.71428571, 0.71428571, 0.71428571, 0.71428571,\n       0.71428571, 0.71428571, 0.71428571, 0.71428571, 0.71428571,\n       0.71428571, 0.71428571, 0.71428571, 0.71428571, 0.71428571,\n       0.71428571, 0.71428571, 0.71428571, 0.71428571, 0.71428571,\n       0.71428571, 0.71428571, 0.71428571, 0.71428571, 0.71428571,\n       0.71428571, 0.71428571, 0.71428571, 0.71428571, 0.71428571,\n       0.71428571, 0.71428571, 0.71428571, 0.71428571, 0.71428571,\n       0.71428571, 0.71428571, 0.71428571, 0.71428571, 0.71428571,\n       0.71428571, 0.71428571, 0.71428571, 0.71428571])"
                    },
                    "metadata": {}
                }
            ]
        },
        {
            "metadata": {},
            "cell_type": "markdown",
            "source": "### 4.2 Finding Optimal C Value"
        },
        {
            "metadata": {},
            "cell_type": "code",
            "source": "plt.plot(np.arange(0.001,1,0.001),mean_acc,'g')\nplt.fill_between(np.arange(0.001,1,0.001),mean_acc - 1 * std_acc,mean_acc + 1 * std_acc, alpha=0.10)\nplt.legend(('Accuracy ', '+/- 3xstd'))\nplt.ylabel('Accuracy ')\nplt.xlabel('C (K)')\nplt.tight_layout()\nplt.show()",
            "execution_count": 94,
            "outputs": [
                {
                    "output_type": "display_data",
                    "data": {
                        "text/plain": "<Figure size 432x288 with 1 Axes>",
                        "image/png": "[encoded data removed]"
                    },
                    "metadata": {
                        "needs_background": "light"
                    }
                }
            ]
        },
        {
            "metadata": {},
            "cell_type": "markdown",
            "source": "C = 0.1 seems pretty sensible to use"
        },
        {
            "metadata": {},
            "cell_type": "markdown",
            "source": "### 4.3 Final Logistic Regression model for testing"
        },
        {
            "metadata": {},
            "cell_type": "code",
            "source": "final_LR = LogisticRegression(C=n, solver='liblinear', max_iter=200).fit(X_train,y_train)",
            "execution_count": 52,
            "outputs": []
        },
        {
            "metadata": {},
            "cell_type": "markdown",
            "source": "### 4.4 Prediction with Final Log Reg"
        },
        {
            "metadata": {},
            "cell_type": "code",
            "source": "y_pred = final_LR.predict(X_true)",
            "execution_count": 54,
            "outputs": []
        },
        {
            "metadata": {},
            "cell_type": "markdown",
            "source": "### 4.5 Model Accuracy Evaluation with a) Jaccard b) F1-Score"
        },
        {
            "metadata": {},
            "cell_type": "markdown",
            "source": "#### Jaccard Score"
        },
        {
            "metadata": {},
            "cell_type": "code",
            "source": "logreg_j = jaccard_similarity_score(y_pred, y_true)\nprint(\"The Log Reg Jaccard Accuracy - \",logreg_j*100,'%')",
            "execution_count": 55,
            "outputs": [
                {
                    "output_type": "stream",
                    "text": "The Log Reg Jaccard Accuracy -  75.43352601156069 %\n",
                    "name": "stdout"
                }
            ]
        },
        {
            "metadata": {},
            "cell_type": "markdown",
            "source": "#### F1 Score"
        },
        {
            "metadata": {},
            "cell_type": "code",
            "source": "logreg_f1 = f1_score(y_pred, y_true, average='weighted')\nprint(\"The Log Reg F-1 Score - \",logreg_f1*100,'%')",
            "execution_count": 56,
            "outputs": [
                {
                    "output_type": "stream",
                    "text": "The Log Reg F-1 Score -  77.61669413071493 %\n",
                    "name": "stdout"
                }
            ]
        },
        {
            "metadata": {},
            "cell_type": "markdown",
            "source": "### 4.6 Calculating Log Loss"
        },
        {
            "metadata": {},
            "cell_type": "markdown",
            "source": "## Log Loss"
        },
        {
            "metadata": {},
            "cell_type": "code",
            "source": "np.place(y_pred, y_pred=='PAIDOFF', 1)\nnp.place(y_pred, y_pred=='COLLECTION', 0)\nnp.place(y_true, y_true=='PAIDOFF', 1)\nnp.place(y_true, y_true=='COLLECTION', 0)",
            "execution_count": 57,
            "outputs": []
        },
        {
            "metadata": {},
            "cell_type": "code",
            "source": "y_pred = y_pred.astype(np.float)\ny_true = y_true.astype(np.float)",
            "execution_count": 58,
            "outputs": []
        },
        {
            "metadata": {},
            "cell_type": "code",
            "source": "log_loss(y_pred, y_true)",
            "execution_count": 59,
            "outputs": [
                {
                    "output_type": "execute_result",
                    "execution_count": 59,
                    "data": {
                        "text/plain": "8.485019604336976"
                    },
                    "metadata": {}
                }
            ]
        },
        {
            "metadata": {},
            "cell_type": "markdown",
            "source": "# Report\nYou should be able to report the accuracy of the built model using different evaluation metrics:"
        },
        {
            "metadata": {},
            "cell_type": "markdown",
            "source": "| Algorithm          | Jaccard | F1-score | LogLoss |\n|--------------------|---------|----------|---------|\n| KNN                |0.803    | 0.811    | NA      |\n| Decision Tree      |0.867    | 0.866    | NA      |\n| SVM                |0.751    | 0.858    | NA      |\n| LogisticRegression | 0.754   | 0.756    | 8.48    |"
        },
        {
            "metadata": {},
            "cell_type": "markdown",
            "source": "### Conclusion : \n\n#### From this, a more stable and high performance model seems to be Decision Tree."
        },
        {
            "metadata": {
                "button": false,
                "new_sheet": false,
                "run_control": {
                    "read_only": false
                }
            },
            "cell_type": "markdown",
            "source": "<h2>Want to learn more?</h2>\n\nIBM SPSS Modeler is a comprehensive analytics platform that has many machine learning algorithms. It has been designed to bring predictive intelligence to decisions made by individuals, by groups, by systems \u2013 by your enterprise as a whole. A free trial is available through this course, available here: <a href=\"http://cocl.us/ML0101EN-SPSSModeler\">SPSS Modeler</a>\n\nAlso, you can use Watson Studio to run these notebooks faster with bigger datasets. Watson Studio is IBM's leading cloud solution for data scientists, built by data scientists. With Jupyter notebooks, RStudio, Apache Spark and popular libraries pre-packaged in the cloud, Watson Studio enables data scientists to collaborate on their projects without having to install anything. Join the fast-growing community of Watson Studio users today with a free account at <a href=\"https://cocl.us/ML0101EN_DSX\">Watson Studio</a>\n\n<h3>Thanks for completing this lesson!</h3>\n\n<h4>Author:  <a href=\"https://ca.linkedin.com/in/saeedaghabozorgi\">Saeed Aghabozorgi</a></h4>\n<p><a href=\"https://ca.linkedin.com/in/saeedaghabozorgi\">Saeed Aghabozorgi</a>, PhD is a Data Scientist in IBM with a track record of developing enterprise level applications that substantially increases clients\u2019 ability to turn data into actionable knowledge. He is a researcher in data mining field and expert in developing advanced analytic methods like machine learning and statistical modelling on large datasets.</p>\n\n<hr>\n\n<p>Copyright &copy; 2018 <a href=\"https://cocl.us/DX0108EN_CC\">Cognitive Class</a>. This notebook and its source code are released under the terms of the <a href=\"https://bigdatauniversity.com/mit-license/\">MIT License</a>.</p>"
        }
    ],
    "metadata": {
        "kernelspec": {
            "name": "python3",
            "display_name": "Python 3.6",
            "language": "python"
        },
        "language_info": {
            "name": "python",
            "version": "3.6.9",
            "mimetype": "text/x-python",
            "codemirror_mode": {
                "name": "ipython",
                "version": 3
            },
            "pygments_lexer": "ipython3",
            "nbconvert_exporter": "python",
            "file_extension": ".py"
        }
    },
    "nbformat": 4,
    "nbformat_minor": 2
}